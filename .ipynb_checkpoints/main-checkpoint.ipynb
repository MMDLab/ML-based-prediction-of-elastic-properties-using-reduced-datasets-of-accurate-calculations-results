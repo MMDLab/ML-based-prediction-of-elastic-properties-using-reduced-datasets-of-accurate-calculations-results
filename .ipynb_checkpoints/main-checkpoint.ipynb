{
 "cells": [
  {
   "cell_type": "code",
   "execution_count": 2,
   "id": "29b813fd-bfd0-4ea6-959c-20dd9b252eaf",
   "metadata": {},
   "outputs": [],
   "source": [
    "import pandas as pd"
   ]
  },
  {
   "cell_type": "markdown",
   "id": "51e4f75d-f863-493a-821e-16b976cd699f",
   "metadata": {
    "tags": []
   },
   "source": [
    "# Data loading"
   ]
  },
  {
   "cell_type": "code",
   "execution_count": 3,
   "id": "c53a007b-4776-42cf-bdc1-4fed365d8ed3",
   "metadata": {},
   "outputs": [],
   "source": [
    "df_emto = pd.read_json('./raw_data/emto.raw.json')\n",
    "df_vasp = pd.read_json('./raw_data/vasp.raw.json')"
   ]
  },
  {
   "cell_type": "markdown",
   "id": "318b6cde-9575-417c-8c16-a4303a49171e",
   "metadata": {
    "tags": []
   },
   "source": [
    "# Data preprocessing"
   ]
  },
  {
   "cell_type": "code",
   "execution_count": 4,
   "id": "868e38a1-bcd2-4fb8-b471-45e81e1b9332",
   "metadata": {},
   "outputs": [
    {
     "data": {
      "text/html": [
       "<div>\n",
       "<style scoped>\n",
       "    .dataframe tbody tr th:only-of-type {\n",
       "        vertical-align: middle;\n",
       "    }\n",
       "\n",
       "    .dataframe tbody tr th {\n",
       "        vertical-align: top;\n",
       "    }\n",
       "\n",
       "    .dataframe thead th {\n",
       "        text-align: right;\n",
       "    }\n",
       "</style>\n",
       "<table border=\"1\" class=\"dataframe\">\n",
       "  <thead>\n",
       "    <tr style=\"text-align: right;\">\n",
       "      <th></th>\n",
       "      <th>C_prime</th>\n",
       "      <th>c11</th>\n",
       "      <th>c12</th>\n",
       "      <th>c44</th>\n",
       "      <th>B</th>\n",
       "      <th>G</th>\n",
       "      <th>E</th>\n",
       "    </tr>\n",
       "  </thead>\n",
       "  <tbody>\n",
       "    <tr>\n",
       "      <th>count</th>\n",
       "      <td>1657</td>\n",
       "      <td>1657</td>\n",
       "      <td>1657</td>\n",
       "      <td>1657</td>\n",
       "      <td>1657</td>\n",
       "      <td>1657</td>\n",
       "      <td>1657</td>\n",
       "    </tr>\n",
       "    <tr>\n",
       "      <th>mean</th>\n",
       "      <td>32</td>\n",
       "      <td>167</td>\n",
       "      <td>104</td>\n",
       "      <td>69</td>\n",
       "      <td>125</td>\n",
       "      <td>48</td>\n",
       "      <td>126</td>\n",
       "    </tr>\n",
       "    <tr>\n",
       "      <th>std</th>\n",
       "      <td>24</td>\n",
       "      <td>59</td>\n",
       "      <td>18</td>\n",
       "      <td>12</td>\n",
       "      <td>29</td>\n",
       "      <td>17</td>\n",
       "      <td>45</td>\n",
       "    </tr>\n",
       "    <tr>\n",
       "      <th>min</th>\n",
       "      <td>-12</td>\n",
       "      <td>40</td>\n",
       "      <td>5</td>\n",
       "      <td>42</td>\n",
       "      <td>19</td>\n",
       "      <td>-8</td>\n",
       "      <td>-53</td>\n",
       "    </tr>\n",
       "    <tr>\n",
       "      <th>25%</th>\n",
       "      <td>11</td>\n",
       "      <td>121</td>\n",
       "      <td>95</td>\n",
       "      <td>62</td>\n",
       "      <td>106</td>\n",
       "      <td>35</td>\n",
       "      <td>93</td>\n",
       "    </tr>\n",
       "    <tr>\n",
       "      <th>50%</th>\n",
       "      <td>25</td>\n",
       "      <td>154</td>\n",
       "      <td>104</td>\n",
       "      <td>67</td>\n",
       "      <td>120</td>\n",
       "      <td>45</td>\n",
       "      <td>120</td>\n",
       "    </tr>\n",
       "    <tr>\n",
       "      <th>75%</th>\n",
       "      <td>47</td>\n",
       "      <td>202</td>\n",
       "      <td>112</td>\n",
       "      <td>75</td>\n",
       "      <td>141</td>\n",
       "      <td>57</td>\n",
       "      <td>151</td>\n",
       "    </tr>\n",
       "    <tr>\n",
       "      <th>max</th>\n",
       "      <td>112</td>\n",
       "      <td>373</td>\n",
       "      <td>199</td>\n",
       "      <td>124</td>\n",
       "      <td>234</td>\n",
       "      <td>110</td>\n",
       "      <td>286</td>\n",
       "    </tr>\n",
       "  </tbody>\n",
       "</table>\n",
       "</div>"
      ],
      "text/plain": [
       "       C_prime   c11   c12   c44     B     G     E\n",
       "count     1657  1657  1657  1657  1657  1657  1657\n",
       "mean        32   167   104    69   125    48   126\n",
       "std         24    59    18    12    29    17    45\n",
       "min        -12    40     5    42    19    -8   -53\n",
       "25%         11   121    95    62   106    35    93\n",
       "50%         25   154   104    67   120    45   120\n",
       "75%         47   202   112    75   141    57   151\n",
       "max        112   373   199   124   234   110   286"
      ]
     },
     "execution_count": 4,
     "metadata": {},
     "output_type": "execute_result"
    }
   ],
   "source": [
    "df_emto[['C_prime', 'c11', 'c12','c44', 'B', 'G', 'E']].describe().round().astype(int)"
   ]
  },
  {
   "cell_type": "code",
   "execution_count": 5,
   "id": "cd46ef4e-580f-4540-a7bc-65d93c2862eb",
   "metadata": {},
   "outputs": [
    {
     "data": {
      "text/html": [
       "<div>\n",
       "<style scoped>\n",
       "    .dataframe tbody tr th:only-of-type {\n",
       "        vertical-align: middle;\n",
       "    }\n",
       "\n",
       "    .dataframe tbody tr th {\n",
       "        vertical-align: top;\n",
       "    }\n",
       "\n",
       "    .dataframe thead th {\n",
       "        text-align: right;\n",
       "    }\n",
       "</style>\n",
       "<table border=\"1\" class=\"dataframe\">\n",
       "  <thead>\n",
       "    <tr style=\"text-align: right;\">\n",
       "      <th></th>\n",
       "      <th>C_prime</th>\n",
       "      <th>c11</th>\n",
       "      <th>c12</th>\n",
       "      <th>c44</th>\n",
       "      <th>B</th>\n",
       "      <th>G</th>\n",
       "      <th>E</th>\n",
       "    </tr>\n",
       "  </thead>\n",
       "  <tbody>\n",
       "    <tr>\n",
       "      <th>count</th>\n",
       "      <td>62</td>\n",
       "      <td>62</td>\n",
       "      <td>62</td>\n",
       "      <td>62</td>\n",
       "      <td>62</td>\n",
       "      <td>62</td>\n",
       "      <td>62</td>\n",
       "    </tr>\n",
       "    <tr>\n",
       "      <th>mean</th>\n",
       "      <td>24</td>\n",
       "      <td>169</td>\n",
       "      <td>122</td>\n",
       "      <td>47</td>\n",
       "      <td>137</td>\n",
       "      <td>32</td>\n",
       "      <td>88</td>\n",
       "    </tr>\n",
       "    <tr>\n",
       "      <th>std</th>\n",
       "      <td>25</td>\n",
       "      <td>68</td>\n",
       "      <td>26</td>\n",
       "      <td>20</td>\n",
       "      <td>38</td>\n",
       "      <td>23</td>\n",
       "      <td>60</td>\n",
       "    </tr>\n",
       "    <tr>\n",
       "      <th>min</th>\n",
       "      <td>-12</td>\n",
       "      <td>83</td>\n",
       "      <td>90</td>\n",
       "      <td>17</td>\n",
       "      <td>88</td>\n",
       "      <td>-18</td>\n",
       "      <td>-58</td>\n",
       "    </tr>\n",
       "    <tr>\n",
       "      <th>25%</th>\n",
       "      <td>3</td>\n",
       "      <td>113</td>\n",
       "      <td>102</td>\n",
       "      <td>31</td>\n",
       "      <td>112</td>\n",
       "      <td>13</td>\n",
       "      <td>38</td>\n",
       "    </tr>\n",
       "    <tr>\n",
       "      <th>50%</th>\n",
       "      <td>20</td>\n",
       "      <td>156</td>\n",
       "      <td>116</td>\n",
       "      <td>42</td>\n",
       "      <td>125</td>\n",
       "      <td>28</td>\n",
       "      <td>79</td>\n",
       "    </tr>\n",
       "    <tr>\n",
       "      <th>75%</th>\n",
       "      <td>38</td>\n",
       "      <td>210</td>\n",
       "      <td>133</td>\n",
       "      <td>53</td>\n",
       "      <td>163</td>\n",
       "      <td>45</td>\n",
       "      <td>122</td>\n",
       "    </tr>\n",
       "    <tr>\n",
       "      <th>max</th>\n",
       "      <td>92</td>\n",
       "      <td>356</td>\n",
       "      <td>215</td>\n",
       "      <td>110</td>\n",
       "      <td>234</td>\n",
       "      <td>91</td>\n",
       "      <td>243</td>\n",
       "    </tr>\n",
       "  </tbody>\n",
       "</table>\n",
       "</div>"
      ],
      "text/plain": [
       "       C_prime  c11  c12  c44    B   G    E\n",
       "count       62   62   62   62   62  62   62\n",
       "mean        24  169  122   47  137  32   88\n",
       "std         25   68   26   20   38  23   60\n",
       "min        -12   83   90   17   88 -18  -58\n",
       "25%          3  113  102   31  112  13   38\n",
       "50%         20  156  116   42  125  28   79\n",
       "75%         38  210  133   53  163  45  122\n",
       "max         92  356  215  110  234  91  243"
      ]
     },
     "execution_count": 5,
     "metadata": {},
     "output_type": "execute_result"
    }
   ],
   "source": [
    "df_vasp[['C_prime', 'c11', 'c12','c44', 'B', 'G', 'E']].describe().round().astype(int)"
   ]
  },
  {
   "cell_type": "markdown",
   "id": "24869b50-4a7e-441c-a47b-3fc41871b319",
   "metadata": {},
   "source": [
    "Add info about pure base lement (Ti) in ternaries dataset to add then all possible combinations of base and dopants with concentrations of 0.0"
   ]
  },
  {
   "cell_type": "code",
   "execution_count": 6,
   "id": "dfca601c-4f47-41a3-833f-ea3793160b48",
   "metadata": {},
   "outputs": [],
   "source": [
    "import numpy as np\n",
    "from handlers import set_dopants_for_pure_elements"
   ]
  },
  {
   "cell_type": "code",
   "execution_count": 7,
   "id": "5d2c9fa3-3498-4f42-8c87-241c46accef7",
   "metadata": {},
   "outputs": [],
   "source": [
    "df_emto = set_dopants_for_pure_elements(df_emto, base='Ti')\n",
    "df_emto = set_dopants_for_pure_elements(df_emto, base='Zr')"
   ]
  },
  {
   "cell_type": "code",
   "execution_count": 8,
   "id": "893899a6-98e0-4c70-bee3-88920c525460",
   "metadata": {},
   "outputs": [],
   "source": [
    "df_vasp = set_dopants_for_pure_elements(df_vasp, base='Ti')\n",
    "df_vasp = set_dopants_for_pure_elements(df_vasp, base='Zr')"
   ]
  },
  {
   "cell_type": "markdown",
   "id": "5cd00c59-e065-4548-968a-c33a2962b2dc",
   "metadata": {
    "tags": []
   },
   "source": [
    "# Features engeneering"
   ]
  },
  {
   "cell_type": "code",
   "execution_count": 9,
   "id": "8faeb962-153d-4149-802a-2de3a220b24c",
   "metadata": {},
   "outputs": [],
   "source": [
    "import warnings\n",
    "warnings.filterwarnings(\"ignore\") "
   ]
  },
  {
   "cell_type": "code",
   "execution_count": 10,
   "id": "59c2c177-13ad-4dc9-a068-158bcf612b72",
   "metadata": {},
   "outputs": [],
   "source": [
    "from handlers import mlb_feats_from_elemental_hull"
   ]
  },
  {
   "cell_type": "markdown",
   "id": "678225fb-14de-47ff-8bee-49be3f5e5c86",
   "metadata": {},
   "source": [
    "Information about different forms of elements in the resulting investigated compositions were added from information on phase diagrams of pure elements from Materials Project data. \n",
    "\n",
    "The following concentration weighted properties have been used as a separate features: atomic number, electronegativity, row and group in a periodic table, atomic mass, atomic radius, molar volume, average ionic radius, maximal and minimal oxidation state. \n",
    "\n",
    "In addition to features that indirectly carry information about the properties and concentration of elements in each composition, we also use features that directly describe the concentrations of each of the 34 unique elements in each composition.\n",
    "\n",
    "Finally, the last group of features was formed as a multi-label binarization of the space groups of elements in their stable crystalline forms, corresponding to each composition from Materials Project.\n",
    "\n",
    "Elemental properties of the most stable form used for features in the concentration weighted form: calculated density, calculated relaxed volume per atom, calculated energy per atom, and total magnetization."
   ]
  },
  {
   "cell_type": "code",
   "execution_count": 11,
   "id": "dbe80b27-da3e-44a3-bf68-fdae5dc4a315",
   "metadata": {},
   "outputs": [
    {
     "name": "stderr",
     "output_type": "stream",
     "text": [
      "100%|██████████| 17/17 [01:12<00:00,  4.26s/it]\n",
      "100%|██████████| 17/17 [00:12<00:00,  1.33it/s]\n"
     ]
    }
   ],
   "source": [
    "df_emto_feats = mlb_feats_from_elemental_hull(df_emto)"
   ]
  },
  {
   "cell_type": "code",
   "execution_count": 12,
   "id": "19769af6-db6e-46b3-bf1a-76d39b32ad6f",
   "metadata": {},
   "outputs": [],
   "source": [
    "from handlers import convert_to_feats"
   ]
  },
  {
   "cell_type": "code",
   "execution_count": 13,
   "id": "df344038-4432-45e5-a374-8d1a0bfd2dd6",
   "metadata": {},
   "outputs": [
    {
     "name": "stderr",
     "output_type": "stream",
     "text": [
      "100%|██████████| 1729/1729 [00:00<00:00, 5961.86it/s]\n"
     ]
    }
   ],
   "source": [
    "df_emto_feats = convert_to_feats(df_emto_feats)"
   ]
  },
  {
   "cell_type": "markdown",
   "id": "7fd70eac-3e14-422c-a9ee-f6be16a5d242",
   "metadata": {},
   "source": [
    "# Models testing"
   ]
  },
  {
   "cell_type": "markdown",
   "id": "d725e03f-339a-406f-b693-1002d79f0f3f",
   "metadata": {},
   "source": [
    "To explore different models following code should be changed:"
   ]
  },
  {
   "cell_type": "code",
   "execution_count": 14,
   "id": "d3baacfc-16f8-4454-951a-1fbdc1c196b4",
   "metadata": {},
   "outputs": [],
   "source": [
    "prop_to_pred = 'C_prime'"
   ]
  },
  {
   "cell_type": "code",
   "execution_count": 15,
   "id": "f8d5c37d-aea6-4ae0-a78b-0c7a33ea2d3d",
   "metadata": {},
   "outputs": [
    {
     "name": "stdout",
     "output_type": "stream",
     "text": [
      "Totally 618 feats will be used\n"
     ]
    }
   ],
   "source": [
    "X1 = df_emto_feats.copy().drop(['ucf', 'base', 'dopants', \n",
    "                               'B','E',  'G', 'C_prime', \n",
    "                               'c11', 'c12', 'c44'], axis='columns')\n",
    "y1 = df_emto_feats[prop_to_pred]\n",
    "\n",
    "model1_feats = list(X1.columns)\n",
    "print(f'Totally {len(model1_feats)} feats will be used')"
   ]
  },
  {
   "cell_type": "code",
   "execution_count": 16,
   "id": "2eb73cbb-94fb-4925-8c1f-3f785e355a2a",
   "metadata": {},
   "outputs": [
    {
     "data": {
      "text/html": [
       "<style>#sk-container-id-1 {color: black;background-color: white;}#sk-container-id-1 pre{padding: 0;}#sk-container-id-1 div.sk-toggleable {background-color: white;}#sk-container-id-1 label.sk-toggleable__label {cursor: pointer;display: block;width: 100%;margin-bottom: 0;padding: 0.3em;box-sizing: border-box;text-align: center;}#sk-container-id-1 label.sk-toggleable__label-arrow:before {content: \"▸\";float: left;margin-right: 0.25em;color: #696969;}#sk-container-id-1 label.sk-toggleable__label-arrow:hover:before {color: black;}#sk-container-id-1 div.sk-estimator:hover label.sk-toggleable__label-arrow:before {color: black;}#sk-container-id-1 div.sk-toggleable__content {max-height: 0;max-width: 0;overflow: hidden;text-align: left;background-color: #f0f8ff;}#sk-container-id-1 div.sk-toggleable__content pre {margin: 0.2em;color: black;border-radius: 0.25em;background-color: #f0f8ff;}#sk-container-id-1 input.sk-toggleable__control:checked~div.sk-toggleable__content {max-height: 200px;max-width: 100%;overflow: auto;}#sk-container-id-1 input.sk-toggleable__control:checked~label.sk-toggleable__label-arrow:before {content: \"▾\";}#sk-container-id-1 div.sk-estimator input.sk-toggleable__control:checked~label.sk-toggleable__label {background-color: #d4ebff;}#sk-container-id-1 div.sk-label input.sk-toggleable__control:checked~label.sk-toggleable__label {background-color: #d4ebff;}#sk-container-id-1 input.sk-hidden--visually {border: 0;clip: rect(1px 1px 1px 1px);clip: rect(1px, 1px, 1px, 1px);height: 1px;margin: -1px;overflow: hidden;padding: 0;position: absolute;width: 1px;}#sk-container-id-1 div.sk-estimator {font-family: monospace;background-color: #f0f8ff;border: 1px dotted black;border-radius: 0.25em;box-sizing: border-box;margin-bottom: 0.5em;}#sk-container-id-1 div.sk-estimator:hover {background-color: #d4ebff;}#sk-container-id-1 div.sk-parallel-item::after {content: \"\";width: 100%;border-bottom: 1px solid gray;flex-grow: 1;}#sk-container-id-1 div.sk-label:hover label.sk-toggleable__label {background-color: #d4ebff;}#sk-container-id-1 div.sk-serial::before {content: \"\";position: absolute;border-left: 1px solid gray;box-sizing: border-box;top: 0;bottom: 0;left: 50%;z-index: 0;}#sk-container-id-1 div.sk-serial {display: flex;flex-direction: column;align-items: center;background-color: white;padding-right: 0.2em;padding-left: 0.2em;position: relative;}#sk-container-id-1 div.sk-item {position: relative;z-index: 1;}#sk-container-id-1 div.sk-parallel {display: flex;align-items: stretch;justify-content: center;background-color: white;position: relative;}#sk-container-id-1 div.sk-item::before, #sk-container-id-1 div.sk-parallel-item::before {content: \"\";position: absolute;border-left: 1px solid gray;box-sizing: border-box;top: 0;bottom: 0;left: 50%;z-index: -1;}#sk-container-id-1 div.sk-parallel-item {display: flex;flex-direction: column;z-index: 1;position: relative;background-color: white;}#sk-container-id-1 div.sk-parallel-item:first-child::after {align-self: flex-end;width: 50%;}#sk-container-id-1 div.sk-parallel-item:last-child::after {align-self: flex-start;width: 50%;}#sk-container-id-1 div.sk-parallel-item:only-child::after {width: 0;}#sk-container-id-1 div.sk-dashed-wrapped {border: 1px dashed gray;margin: 0 0.4em 0.5em 0.4em;box-sizing: border-box;padding-bottom: 0.4em;background-color: white;}#sk-container-id-1 div.sk-label label {font-family: monospace;font-weight: bold;display: inline-block;line-height: 1.2em;}#sk-container-id-1 div.sk-label-container {text-align: center;}#sk-container-id-1 div.sk-container {/* jupyter's `normalize.less` sets `[hidden] { display: none; }` but bootstrap.min.css set `[hidden] { display: none !important; }` so we also need the `!important` here to be able to override the default hidden behavior on the sphinx rendered scikit-learn.org. See: https://github.com/scikit-learn/scikit-learn/issues/21755 */display: inline-block !important;position: relative;}#sk-container-id-1 div.sk-text-repr-fallback {display: none;}</style><div id=\"sk-container-id-1\" class=\"sk-top-container\"><div class=\"sk-text-repr-fallback\"><pre>Pipeline(steps=[(&#x27;stackingestimator&#x27;, StackingEstimator(estimator=RidgeCV())),\n",
       "                (&#x27;robustscaler&#x27;, RobustScaler()),\n",
       "                (&#x27;extratreesregressor&#x27;,\n",
       "                 ExtraTreesRegressor(max_features=0.35000000000000003,\n",
       "                                     min_samples_split=3))])</pre><b>In a Jupyter environment, please rerun this cell to show the HTML representation or trust the notebook. <br />On GitHub, the HTML representation is unable to render, please try loading this page with nbviewer.org.</b></div><div class=\"sk-container\" hidden><div class=\"sk-item sk-dashed-wrapped\"><div class=\"sk-label-container\"><div class=\"sk-label sk-toggleable\"><input class=\"sk-toggleable__control sk-hidden--visually\" id=\"sk-estimator-id-1\" type=\"checkbox\" ><label for=\"sk-estimator-id-1\" class=\"sk-toggleable__label sk-toggleable__label-arrow\">Pipeline</label><div class=\"sk-toggleable__content\"><pre>Pipeline(steps=[(&#x27;stackingestimator&#x27;, StackingEstimator(estimator=RidgeCV())),\n",
       "                (&#x27;robustscaler&#x27;, RobustScaler()),\n",
       "                (&#x27;extratreesregressor&#x27;,\n",
       "                 ExtraTreesRegressor(max_features=0.35000000000000003,\n",
       "                                     min_samples_split=3))])</pre></div></div></div><div class=\"sk-serial\"><div class=\"sk-item sk-dashed-wrapped\"><div class=\"sk-label-container\"><div class=\"sk-label sk-toggleable\"><input class=\"sk-toggleable__control sk-hidden--visually\" id=\"sk-estimator-id-2\" type=\"checkbox\" ><label for=\"sk-estimator-id-2\" class=\"sk-toggleable__label sk-toggleable__label-arrow\">stackingestimator: StackingEstimator</label><div class=\"sk-toggleable__content\"><pre>StackingEstimator(estimator=RidgeCV())</pre></div></div></div><div class=\"sk-parallel\"><div class=\"sk-parallel-item\"><div class=\"sk-item\"><div class=\"sk-label-container\"><div class=\"sk-label sk-toggleable\"><input class=\"sk-toggleable__control sk-hidden--visually\" id=\"sk-estimator-id-3\" type=\"checkbox\" ><label for=\"sk-estimator-id-3\" class=\"sk-toggleable__label sk-toggleable__label-arrow\">estimator: RidgeCV</label><div class=\"sk-toggleable__content\"><pre>RidgeCV()</pre></div></div></div><div class=\"sk-serial\"><div class=\"sk-item\"><div class=\"sk-estimator sk-toggleable\"><input class=\"sk-toggleable__control sk-hidden--visually\" id=\"sk-estimator-id-4\" type=\"checkbox\" ><label for=\"sk-estimator-id-4\" class=\"sk-toggleable__label sk-toggleable__label-arrow\">RidgeCV</label><div class=\"sk-toggleable__content\"><pre>RidgeCV()</pre></div></div></div></div></div></div></div></div><div class=\"sk-item\"><div class=\"sk-estimator sk-toggleable\"><input class=\"sk-toggleable__control sk-hidden--visually\" id=\"sk-estimator-id-5\" type=\"checkbox\" ><label for=\"sk-estimator-id-5\" class=\"sk-toggleable__label sk-toggleable__label-arrow\">RobustScaler</label><div class=\"sk-toggleable__content\"><pre>RobustScaler()</pre></div></div></div><div class=\"sk-item\"><div class=\"sk-estimator sk-toggleable\"><input class=\"sk-toggleable__control sk-hidden--visually\" id=\"sk-estimator-id-6\" type=\"checkbox\" ><label for=\"sk-estimator-id-6\" class=\"sk-toggleable__label sk-toggleable__label-arrow\">ExtraTreesRegressor</label><div class=\"sk-toggleable__content\"><pre>ExtraTreesRegressor(max_features=0.35000000000000003, min_samples_split=3)</pre></div></div></div></div></div></div></div>"
      ],
      "text/plain": [
       "Pipeline(steps=[('stackingestimator', StackingEstimator(estimator=RidgeCV())),\n",
       "                ('robustscaler', RobustScaler()),\n",
       "                ('extratreesregressor',\n",
       "                 ExtraTreesRegressor(max_features=0.35000000000000003,\n",
       "                                     min_samples_split=3))])"
      ]
     },
     "execution_count": 16,
     "metadata": {},
     "output_type": "execute_result"
    }
   ],
   "source": [
    "from ml_models.tpot_pipeline_C_prime_EMTO_lib import *\n",
    "\n",
    "model1 = model1()\n",
    "model1"
   ]
  },
  {
   "cell_type": "markdown",
   "id": "4545c7f2-742b-44ca-a5a8-286aaa2b8817",
   "metadata": {
    "tags": []
   },
   "source": [
    "## Interpolation ability testing"
   ]
  },
  {
   "cell_type": "markdown",
   "id": "6b068ebb-f0ff-405b-b1fa-04f123927c94",
   "metadata": {},
   "source": [
    "Here we estimated interpolation rate of a single model for EMTO values prediction."
   ]
  },
  {
   "cell_type": "markdown",
   "id": "f202338e-f80f-4cd4-b98b-b89ed6ab7e93",
   "metadata": {},
   "source": [
    "To assess interpolation rate we preform a variation of k-fold validation. During this validation at each step we eliminate 1/5 of compositions for each system, then we accurately stack the results and astimate predictability for EMTO-predictor."
   ]
  },
  {
   "cell_type": "code",
   "execution_count": 17,
   "id": "c2e5cfeb-2b32-413a-9508-6afd76005993",
   "metadata": {},
   "outputs": [],
   "source": [
    "tmp_df = X1.copy()\n",
    "tmp_df[prop_to_pred] = y1\n",
    "tmp_df['base'] = df_emto['base']\n",
    "tmp_df['dopants'] = df_emto['dopants']"
   ]
  },
  {
   "cell_type": "code",
   "execution_count": 18,
   "id": "e5d32c24-ce69-436e-b8f1-b1a6d604e3c5",
   "metadata": {},
   "outputs": [],
   "source": [
    "from handlers import interpolation_k_fold_cv"
   ]
  },
  {
   "cell_type": "code",
   "execution_count": 19,
   "id": "77ab353a-3435-499a-a2b8-b481c80e57f6",
   "metadata": {},
   "outputs": [
    {
     "name": "stdout",
     "output_type": "stream",
     "text": [
      "Model: Pipeline(steps=[('stackingestimator', StackingEstimator(estimator=RidgeCV())),\n",
      "                ('robustscaler', RobustScaler()),\n",
      "                ('extratreesregressor',\n",
      "                 ExtraTreesRegressor(max_features=0.35000000000000003,\n",
      "                                     min_samples_split=3))])\n",
      "n_splits: 5\n"
     ]
    },
    {
     "name": "stderr",
     "output_type": "stream",
     "text": [
      "100%|██████████| 5/5 [00:07<00:00,  1.47s/it]\n"
     ]
    }
   ],
   "source": [
    "res, all_true, all_pred, selected_indicies = interpolation_k_fold_cv(model1, tmp_df, 5, prop_to_pred)"
   ]
  },
  {
   "cell_type": "code",
   "execution_count": 20,
   "id": "edac0c96-137f-47ec-8843-57d7cb36ad4c",
   "metadata": {},
   "outputs": [],
   "source": [
    "import seaborn as sns"
   ]
  },
  {
   "cell_type": "code",
   "execution_count": 21,
   "id": "0680b1a5-2927-4f66-83d9-2dba8697ee81",
   "metadata": {},
   "outputs": [
    {
     "data": {
      "text/html": [
       "<div>\n",
       "<style scoped>\n",
       "    .dataframe tbody tr th:only-of-type {\n",
       "        vertical-align: middle;\n",
       "    }\n",
       "\n",
       "    .dataframe tbody tr th {\n",
       "        vertical-align: top;\n",
       "    }\n",
       "\n",
       "    .dataframe thead th {\n",
       "        text-align: right;\n",
       "    }\n",
       "</style>\n",
       "<table border=\"1\" class=\"dataframe\">\n",
       "  <thead>\n",
       "    <tr style=\"text-align: right;\">\n",
       "      <th></th>\n",
       "      <th>r2</th>\n",
       "      <th>MAE</th>\n",
       "    </tr>\n",
       "  </thead>\n",
       "  <tbody>\n",
       "    <tr>\n",
       "      <th>count</th>\n",
       "      <td>5.000000</td>\n",
       "      <td>5.000000</td>\n",
       "    </tr>\n",
       "    <tr>\n",
       "      <th>mean</th>\n",
       "      <td>0.985400</td>\n",
       "      <td>1.694600</td>\n",
       "    </tr>\n",
       "    <tr>\n",
       "      <th>std</th>\n",
       "      <td>0.009343</td>\n",
       "      <td>0.743449</td>\n",
       "    </tr>\n",
       "    <tr>\n",
       "      <th>min</th>\n",
       "      <td>0.971000</td>\n",
       "      <td>1.063000</td>\n",
       "    </tr>\n",
       "    <tr>\n",
       "      <th>25%</th>\n",
       "      <td>0.981000</td>\n",
       "      <td>1.119000</td>\n",
       "    </tr>\n",
       "    <tr>\n",
       "      <th>50%</th>\n",
       "      <td>0.990000</td>\n",
       "      <td>1.495000</td>\n",
       "    </tr>\n",
       "    <tr>\n",
       "      <th>75%</th>\n",
       "      <td>0.992000</td>\n",
       "      <td>1.923000</td>\n",
       "    </tr>\n",
       "    <tr>\n",
       "      <th>max</th>\n",
       "      <td>0.993000</td>\n",
       "      <td>2.873000</td>\n",
       "    </tr>\n",
       "  </tbody>\n",
       "</table>\n",
       "</div>"
      ],
      "text/plain": [
       "             r2       MAE\n",
       "count  5.000000  5.000000\n",
       "mean   0.985400  1.694600\n",
       "std    0.009343  0.743449\n",
       "min    0.971000  1.063000\n",
       "25%    0.981000  1.119000\n",
       "50%    0.990000  1.495000\n",
       "75%    0.992000  1.923000\n",
       "max    0.993000  2.873000"
      ]
     },
     "metadata": {},
     "output_type": "display_data"
    },
    {
     "data": {
      "text/plain": [
       "<seaborn.axisgrid.JointGrid at 0x7ff22318ffd0>"
      ]
     },
     "execution_count": 21,
     "metadata": {},
     "output_type": "execute_result"
    },
    {
     "data": {
      "image/png": "[encoded data removed]",
      "text/plain": [
       "<Figure size 600x600 with 3 Axes>"
      ]
     },
     "metadata": {},
     "output_type": "display_data"
    }
   ],
   "source": [
    "display(res)\n",
    "sns.jointplot(kind='reg', x=all_true, y=all_pred)"
   ]
  },
  {
   "cell_type": "markdown",
   "id": "ebfe6d67-5bf5-4d8f-b942-61a097d43451",
   "metadata": {},
   "source": [
    "Train first model"
   ]
  },
  {
   "cell_type": "code",
   "execution_count": 22,
   "id": "c54d16e8-542c-4673-bfd0-eb9a8fb3609a",
   "metadata": {},
   "outputs": [],
   "source": [
    "from handlers import fill_na_feats"
   ]
  },
  {
   "cell_type": "code",
   "execution_count": 23,
   "id": "76360f50-96cc-44dc-9caf-2d3c41e224e5",
   "metadata": {},
   "outputs": [
    {
     "name": "stderr",
     "output_type": "stream",
     "text": [
      "100%|██████████| 17/17 [00:01<00:00, 11.61it/s]\n",
      "100%|██████████| 17/17 [00:00<00:00, 40.96it/s]\n",
      "100%|██████████| 70/70 [00:00<00:00, 6815.10it/s]\n"
     ]
    },
    {
     "name": "stdout",
     "output_type": "stream",
     "text": [
      "Totally 241 feats will be used\n"
     ]
    }
   ],
   "source": [
    "'''Train first model using all data from EMTO'''\n",
    "model1.fit(X1,y1)\n",
    "\n",
    "'''\n",
    "    Next step is to fill all empty features with zeros and than \n",
    "    to calculate predicted EMTO values from model 1 for VASP set\n",
    "'''\n",
    "\n",
    "df_vasp_feats = mlb_feats_from_elemental_hull(df_vasp)\n",
    "df_vasp_feats = convert_to_feats(df_vasp_feats)\n",
    "\n",
    "X2 = df_vasp_feats.drop(['ucf', 'base', 'dopants', \n",
    "                       'B','E',  'G', 'C_prime', \n",
    "                       'c11', 'c12', 'c44'], axis='columns').copy()\n",
    "\n",
    "predicted_EMTO = model1.predict(fill_na_feats(model1_feats, X2))\n",
    "X2_ = X2.copy()\n",
    "X2_['predicted_EMTO'] = predicted_EMTO\n",
    "\n",
    "y2 = df_vasp_feats[prop_to_pred]\n",
    "\n",
    "model2_feats = list(X2_.columns)\n",
    "print(f'Totally {X2_.shape[1]} feats will be used')"
   ]
  },
  {
   "cell_type": "code",
   "execution_count": 24,
   "id": "f11fde74-2570-4ba2-b46f-d4f5d946ab8b",
   "metadata": {},
   "outputs": [
    {
     "data": {
      "text/html": [
       "<style>#sk-container-id-2 {color: black;background-color: white;}#sk-container-id-2 pre{padding: 0;}#sk-container-id-2 div.sk-toggleable {background-color: white;}#sk-container-id-2 label.sk-toggleable__label {cursor: pointer;display: block;width: 100%;margin-bottom: 0;padding: 0.3em;box-sizing: border-box;text-align: center;}#sk-container-id-2 label.sk-toggleable__label-arrow:before {content: \"▸\";float: left;margin-right: 0.25em;color: #696969;}#sk-container-id-2 label.sk-toggleable__label-arrow:hover:before {color: black;}#sk-container-id-2 div.sk-estimator:hover label.sk-toggleable__label-arrow:before {color: black;}#sk-container-id-2 div.sk-toggleable__content {max-height: 0;max-width: 0;overflow: hidden;text-align: left;background-color: #f0f8ff;}#sk-container-id-2 div.sk-toggleable__content pre {margin: 0.2em;color: black;border-radius: 0.25em;background-color: #f0f8ff;}#sk-container-id-2 input.sk-toggleable__control:checked~div.sk-toggleable__content {max-height: 200px;max-width: 100%;overflow: auto;}#sk-container-id-2 input.sk-toggleable__control:checked~label.sk-toggleable__label-arrow:before {content: \"▾\";}#sk-container-id-2 div.sk-estimator input.sk-toggleable__control:checked~label.sk-toggleable__label {background-color: #d4ebff;}#sk-container-id-2 div.sk-label input.sk-toggleable__control:checked~label.sk-toggleable__label {background-color: #d4ebff;}#sk-container-id-2 input.sk-hidden--visually {border: 0;clip: rect(1px 1px 1px 1px);clip: rect(1px, 1px, 1px, 1px);height: 1px;margin: -1px;overflow: hidden;padding: 0;position: absolute;width: 1px;}#sk-container-id-2 div.sk-estimator {font-family: monospace;background-color: #f0f8ff;border: 1px dotted black;border-radius: 0.25em;box-sizing: border-box;margin-bottom: 0.5em;}#sk-container-id-2 div.sk-estimator:hover {background-color: #d4ebff;}#sk-container-id-2 div.sk-parallel-item::after {content: \"\";width: 100%;border-bottom: 1px solid gray;flex-grow: 1;}#sk-container-id-2 div.sk-label:hover label.sk-toggleable__label {background-color: #d4ebff;}#sk-container-id-2 div.sk-serial::before {content: \"\";position: absolute;border-left: 1px solid gray;box-sizing: border-box;top: 0;bottom: 0;left: 50%;z-index: 0;}#sk-container-id-2 div.sk-serial {display: flex;flex-direction: column;align-items: center;background-color: white;padding-right: 0.2em;padding-left: 0.2em;position: relative;}#sk-container-id-2 div.sk-item {position: relative;z-index: 1;}#sk-container-id-2 div.sk-parallel {display: flex;align-items: stretch;justify-content: center;background-color: white;position: relative;}#sk-container-id-2 div.sk-item::before, #sk-container-id-2 div.sk-parallel-item::before {content: \"\";position: absolute;border-left: 1px solid gray;box-sizing: border-box;top: 0;bottom: 0;left: 50%;z-index: -1;}#sk-container-id-2 div.sk-parallel-item {display: flex;flex-direction: column;z-index: 1;position: relative;background-color: white;}#sk-container-id-2 div.sk-parallel-item:first-child::after {align-self: flex-end;width: 50%;}#sk-container-id-2 div.sk-parallel-item:last-child::after {align-self: flex-start;width: 50%;}#sk-container-id-2 div.sk-parallel-item:only-child::after {width: 0;}#sk-container-id-2 div.sk-dashed-wrapped {border: 1px dashed gray;margin: 0 0.4em 0.5em 0.4em;box-sizing: border-box;padding-bottom: 0.4em;background-color: white;}#sk-container-id-2 div.sk-label label {font-family: monospace;font-weight: bold;display: inline-block;line-height: 1.2em;}#sk-container-id-2 div.sk-label-container {text-align: center;}#sk-container-id-2 div.sk-container {/* jupyter's `normalize.less` sets `[hidden] { display: none; }` but bootstrap.min.css set `[hidden] { display: none !important; }` so we also need the `!important` here to be able to override the default hidden behavior on the sphinx rendered scikit-learn.org. See: https://github.com/scikit-learn/scikit-learn/issues/21755 */display: inline-block !important;position: relative;}#sk-container-id-2 div.sk-text-repr-fallback {display: none;}</style><div id=\"sk-container-id-2\" class=\"sk-top-container\"><div class=\"sk-text-repr-fallback\"><pre>Pipeline(steps=[(&#x27;stackingestimator-1&#x27;,\n",
       "                 StackingEstimator(estimator=KNeighborsRegressor(n_neighbors=37))),\n",
       "                (&#x27;selectfwe&#x27;,\n",
       "                 SelectFwe(alpha=0.004,\n",
       "                           score_func=&lt;function f_regression at 0x7ff22467d510&gt;)),\n",
       "                (&#x27;variancethreshold&#x27;, VarianceThreshold(threshold=0.0001)),\n",
       "                (&#x27;zerocount-1&#x27;, ZeroCount()), (&#x27;zerocount-2&#x27;, ZeroCount()),\n",
       "                (&#x27;zerocount-3&#x27;, ZeroCount()),\n",
       "                (&#x27;pca&#x27;, PCA(iterated_power=10, svd_solver=&#x27;randomized&#x27;)),\n",
       "                (&#x27;stackingestimator-2&#x27;,\n",
       "                 StackingEstimator(estimator=RandomForestRegressor(max_features=0.3,\n",
       "                                                                   min_samples_leaf=16,\n",
       "                                                                   min_samples_split=7))),\n",
       "                (&#x27;ridgecv&#x27;, RidgeCV())])</pre><b>In a Jupyter environment, please rerun this cell to show the HTML representation or trust the notebook. <br />On GitHub, the HTML representation is unable to render, please try loading this page with nbviewer.org.</b></div><div class=\"sk-container\" hidden><div class=\"sk-item sk-dashed-wrapped\"><div class=\"sk-label-container\"><div class=\"sk-label sk-toggleable\"><input class=\"sk-toggleable__control sk-hidden--visually\" id=\"sk-estimator-id-7\" type=\"checkbox\" ><label for=\"sk-estimator-id-7\" class=\"sk-toggleable__label sk-toggleable__label-arrow\">Pipeline</label><div class=\"sk-toggleable__content\"><pre>Pipeline(steps=[(&#x27;stackingestimator-1&#x27;,\n",
       "                 StackingEstimator(estimator=KNeighborsRegressor(n_neighbors=37))),\n",
       "                (&#x27;selectfwe&#x27;,\n",
       "                 SelectFwe(alpha=0.004,\n",
       "                           score_func=&lt;function f_regression at 0x7ff22467d510&gt;)),\n",
       "                (&#x27;variancethreshold&#x27;, VarianceThreshold(threshold=0.0001)),\n",
       "                (&#x27;zerocount-1&#x27;, ZeroCount()), (&#x27;zerocount-2&#x27;, ZeroCount()),\n",
       "                (&#x27;zerocount-3&#x27;, ZeroCount()),\n",
       "                (&#x27;pca&#x27;, PCA(iterated_power=10, svd_solver=&#x27;randomized&#x27;)),\n",
       "                (&#x27;stackingestimator-2&#x27;,\n",
       "                 StackingEstimator(estimator=RandomForestRegressor(max_features=0.3,\n",
       "                                                                   min_samples_leaf=16,\n",
       "                                                                   min_samples_split=7))),\n",
       "                (&#x27;ridgecv&#x27;, RidgeCV())])</pre></div></div></div><div class=\"sk-serial\"><div class=\"sk-item sk-dashed-wrapped\"><div class=\"sk-label-container\"><div class=\"sk-label sk-toggleable\"><input class=\"sk-toggleable__control sk-hidden--visually\" id=\"sk-estimator-id-8\" type=\"checkbox\" ><label for=\"sk-estimator-id-8\" class=\"sk-toggleable__label sk-toggleable__label-arrow\">stackingestimator-1: StackingEstimator</label><div class=\"sk-toggleable__content\"><pre>StackingEstimator(estimator=KNeighborsRegressor(n_neighbors=37))</pre></div></div></div><div class=\"sk-parallel\"><div class=\"sk-parallel-item\"><div class=\"sk-item\"><div class=\"sk-label-container\"><div class=\"sk-label sk-toggleable\"><input class=\"sk-toggleable__control sk-hidden--visually\" id=\"sk-estimator-id-9\" type=\"checkbox\" ><label for=\"sk-estimator-id-9\" class=\"sk-toggleable__label sk-toggleable__label-arrow\">estimator: KNeighborsRegressor</label><div class=\"sk-toggleable__content\"><pre>KNeighborsRegressor(n_neighbors=37)</pre></div></div></div><div class=\"sk-serial\"><div class=\"sk-item\"><div class=\"sk-estimator sk-toggleable\"><input class=\"sk-toggleable__control sk-hidden--visually\" id=\"sk-estimator-id-10\" type=\"checkbox\" ><label for=\"sk-estimator-id-10\" class=\"sk-toggleable__label sk-toggleable__label-arrow\">KNeighborsRegressor</label><div class=\"sk-toggleable__content\"><pre>KNeighborsRegressor(n_neighbors=37)</pre></div></div></div></div></div></div></div></div><div class=\"sk-item\"><div class=\"sk-estimator sk-toggleable\"><input class=\"sk-toggleable__control sk-hidden--visually\" id=\"sk-estimator-id-11\" type=\"checkbox\" ><label for=\"sk-estimator-id-11\" class=\"sk-toggleable__label sk-toggleable__label-arrow\">SelectFwe</label><div class=\"sk-toggleable__content\"><pre>SelectFwe(alpha=0.004, score_func=&lt;function f_regression at 0x7ff22467d510&gt;)</pre></div></div></div><div class=\"sk-item\"><div class=\"sk-estimator sk-toggleable\"><input class=\"sk-toggleable__control sk-hidden--visually\" id=\"sk-estimator-id-12\" type=\"checkbox\" ><label for=\"sk-estimator-id-12\" class=\"sk-toggleable__label sk-toggleable__label-arrow\">VarianceThreshold</label><div class=\"sk-toggleable__content\"><pre>VarianceThreshold(threshold=0.0001)</pre></div></div></div><div class=\"sk-item\"><div class=\"sk-estimator sk-toggleable\"><input class=\"sk-toggleable__control sk-hidden--visually\" id=\"sk-estimator-id-13\" type=\"checkbox\" ><label for=\"sk-estimator-id-13\" class=\"sk-toggleable__label sk-toggleable__label-arrow\">ZeroCount</label><div class=\"sk-toggleable__content\"><pre>ZeroCount()</pre></div></div></div><div class=\"sk-item\"><div class=\"sk-estimator sk-toggleable\"><input class=\"sk-toggleable__control sk-hidden--visually\" id=\"sk-estimator-id-14\" type=\"checkbox\" ><label for=\"sk-estimator-id-14\" class=\"sk-toggleable__label sk-toggleable__label-arrow\">ZeroCount</label><div class=\"sk-toggleable__content\"><pre>ZeroCount()</pre></div></div></div><div class=\"sk-item\"><div class=\"sk-estimator sk-toggleable\"><input class=\"sk-toggleable__control sk-hidden--visually\" id=\"sk-estimator-id-15\" type=\"checkbox\" ><label for=\"sk-estimator-id-15\" class=\"sk-toggleable__label sk-toggleable__label-arrow\">ZeroCount</label><div class=\"sk-toggleable__content\"><pre>ZeroCount()</pre></div></div></div><div class=\"sk-item\"><div class=\"sk-estimator sk-toggleable\"><input class=\"sk-toggleable__control sk-hidden--visually\" id=\"sk-estimator-id-16\" type=\"checkbox\" ><label for=\"sk-estimator-id-16\" class=\"sk-toggleable__label sk-toggleable__label-arrow\">PCA</label><div class=\"sk-toggleable__content\"><pre>PCA(iterated_power=10, svd_solver=&#x27;randomized&#x27;)</pre></div></div></div><div class=\"sk-item sk-dashed-wrapped\"><div class=\"sk-label-container\"><div class=\"sk-label sk-toggleable\"><input class=\"sk-toggleable__control sk-hidden--visually\" id=\"sk-estimator-id-17\" type=\"checkbox\" ><label for=\"sk-estimator-id-17\" class=\"sk-toggleable__label sk-toggleable__label-arrow\">stackingestimator-2: StackingEstimator</label><div class=\"sk-toggleable__content\"><pre>StackingEstimator(estimator=RandomForestRegressor(max_features=0.3,\n",
       "                                                  min_samples_leaf=16,\n",
       "                                                  min_samples_split=7))</pre></div></div></div><div class=\"sk-parallel\"><div class=\"sk-parallel-item\"><div class=\"sk-item\"><div class=\"sk-label-container\"><div class=\"sk-label sk-toggleable\"><input class=\"sk-toggleable__control sk-hidden--visually\" id=\"sk-estimator-id-18\" type=\"checkbox\" ><label for=\"sk-estimator-id-18\" class=\"sk-toggleable__label sk-toggleable__label-arrow\">estimator: RandomForestRegressor</label><div class=\"sk-toggleable__content\"><pre>RandomForestRegressor(max_features=0.3, min_samples_leaf=16,\n",
       "                      min_samples_split=7)</pre></div></div></div><div class=\"sk-serial\"><div class=\"sk-item\"><div class=\"sk-estimator sk-toggleable\"><input class=\"sk-toggleable__control sk-hidden--visually\" id=\"sk-estimator-id-19\" type=\"checkbox\" ><label for=\"sk-estimator-id-19\" class=\"sk-toggleable__label sk-toggleable__label-arrow\">RandomForestRegressor</label><div class=\"sk-toggleable__content\"><pre>RandomForestRegressor(max_features=0.3, min_samples_leaf=16,\n",
       "                      min_samples_split=7)</pre></div></div></div></div></div></div></div></div><div class=\"sk-item\"><div class=\"sk-estimator sk-toggleable\"><input class=\"sk-toggleable__control sk-hidden--visually\" id=\"sk-estimator-id-20\" type=\"checkbox\" ><label for=\"sk-estimator-id-20\" class=\"sk-toggleable__label sk-toggleable__label-arrow\">RidgeCV</label><div class=\"sk-toggleable__content\"><pre>RidgeCV()</pre></div></div></div></div></div></div></div>"
      ],
      "text/plain": [
       "Pipeline(steps=[('stackingestimator-1',\n",
       "                 StackingEstimator(estimator=KNeighborsRegressor(n_neighbors=37))),\n",
       "                ('selectfwe',\n",
       "                 SelectFwe(alpha=0.004,\n",
       "                           score_func=<function f_regression at 0x7ff22467d510>)),\n",
       "                ('variancethreshold', VarianceThreshold(threshold=0.0001)),\n",
       "                ('zerocount-1', ZeroCount()), ('zerocount-2', ZeroCount()),\n",
       "                ('zerocount-3', ZeroCount()),\n",
       "                ('pca', PCA(iterated_power=10, svd_solver='randomized')),\n",
       "                ('stackingestimator-2',\n",
       "                 StackingEstimator(estimator=RandomForestRegressor(max_features=0.3,\n",
       "                                                                   min_samples_leaf=16,\n",
       "                                                                   min_samples_split=7))),\n",
       "                ('ridgecv', RidgeCV())])"
      ]
     },
     "execution_count": 24,
     "metadata": {},
     "output_type": "execute_result"
    }
   ],
   "source": [
    "from ml_models.tpot_pipeline_C_prime_VASP_lib import *\n",
    "\n",
    "model2 = model2()\n",
    "model2"
   ]
  },
  {
   "cell_type": "markdown",
   "id": "51256d1c-b7b9-44c8-9c60-b8a82baab7e1",
   "metadata": {},
   "source": [
    "interpolation abillity for second group of models tested via leave-one-out CV:"
   ]
  },
  {
   "cell_type": "code",
   "execution_count": 25,
   "id": "806ea472-58a8-40d7-8a80-e8fcaec443cd",
   "metadata": {},
   "outputs": [],
   "source": [
    "from handlers import leave_one_out_cv"
   ]
  },
  {
   "cell_type": "code",
   "execution_count": 26,
   "id": "30b76cad-d3c3-4796-b70a-b82d67204d29",
   "metadata": {},
   "outputs": [
    {
     "name": "stderr",
     "output_type": "stream",
     "text": [
      "100%|██████████| 70/70 [00:06<00:00, 11.40it/s]\n"
     ]
    }
   ],
   "source": [
    "true, pred, res = leave_one_out_cv(model2, X2_,y2)"
   ]
  },
  {
   "cell_type": "code",
   "execution_count": 27,
   "id": "18e4ebc4-e62f-44ea-9501-6fef356168f7",
   "metadata": {},
   "outputs": [
    {
     "data": {
      "text/plain": [
       "<seaborn.axisgrid.JointGrid at 0x7ff227112290>"
      ]
     },
     "execution_count": 27,
     "metadata": {},
     "output_type": "execute_result"
    },
    {
     "data": {
      "image/png": "[encoded data removed]",
      "text/plain": [
       "<Figure size 600x600 with 3 Axes>"
      ]
     },
     "metadata": {},
     "output_type": "display_data"
    }
   ],
   "source": [
    "sns.jointplot(kind='reg', x=true, y=pred, color='tab:orange')"
   ]
  },
  {
   "cell_type": "markdown",
   "id": "014c6558-59ee-4062-94d5-509631c80e78",
   "metadata": {},
   "source": [
    "## Extrapolation ability testing"
   ]
  },
  {
   "cell_type": "markdown",
   "id": "cf6de897-7d52-4b05-81bf-e80549365513",
   "metadata": {},
   "source": [
    "To estimate extrapolation rate we performed \"system-fold\" validation, which means, that in each step of such validation one entire system (e.g. Ti-Al) was excluded from a train set, and then we accurately check predicted values for excluded system. This validation is performed only for binaries."
   ]
  },
  {
   "cell_type": "code",
   "execution_count": 28,
   "id": "0565ba3c-ead5-4c77-8965-8f09089aec91",
   "metadata": {},
   "outputs": [
    {
     "name": "stdout",
     "output_type": "stream",
     "text": [
      "Prop_to_pred: C_prime\n"
     ]
    }
   ],
   "source": [
    "# Validate only binaries\n",
    "print('Prop_to_pred:', prop_to_pred)"
   ]
  },
  {
   "cell_type": "markdown",
   "id": "54f24646-6d65-4e70-a7c5-f5c070a1f03f",
   "metadata": {},
   "source": [
    "Prepare datasets"
   ]
  },
  {
   "cell_type": "code",
   "execution_count": 31,
   "id": "c0a604ff-0e5c-4fe0-958e-255c3678a482",
   "metadata": {},
   "outputs": [],
   "source": [
    "from handlers import get_set_for_system_fold_cv\n",
    "from handlers import system_fold_cv"
   ]
  },
  {
   "cell_type": "code",
   "execution_count": 32,
   "id": "923895fb-6cb7-4853-9284-76d666153db7",
   "metadata": {},
   "outputs": [
    {
     "name": "stdout",
     "output_type": "stream",
     "text": [
      "Validated system: Ti-Ag\n",
      "Discrepancies in emto set: 0\n",
      "Discrepancies in vasp set: 0\n"
     ]
    },
    {
     "name": "stderr",
     "output_type": "stream",
     "text": [
      "100%|██████████| 17/17 [00:00<00:00, 40.33it/s]\n",
      "100%|██████████| 17/17 [00:00<00:00, 88.77it/s]\n",
      "100%|██████████| 31/31 [00:00<00:00, 7383.08it/s]\n"
     ]
    },
    {
     "name": "stdout",
     "output_type": "stream",
     "text": [
      "-------------------------------------------------------------------------------\n",
      "Validated system: Ti-Al\n",
      "Discrepancies in emto set: 0\n",
      "Discrepancies in vasp set: 0\n"
     ]
    },
    {
     "name": "stderr",
     "output_type": "stream",
     "text": [
      "100%|██████████| 17/17 [00:00<00:00, 43.87it/s]\n",
      "100%|██████████| 17/17 [00:00<00:00, 85.97it/s]\n",
      "100%|██████████| 31/31 [00:00<00:00, 6204.89it/s]\n"
     ]
    },
    {
     "name": "stdout",
     "output_type": "stream",
     "text": [
      "-------------------------------------------------------------------------------\n",
      "Validated system: Ti-Au\n",
      "Discrepancies in emto set: 0\n",
      "Discrepancies in vasp set: 0\n"
     ]
    },
    {
     "name": "stderr",
     "output_type": "stream",
     "text": [
      "100%|██████████| 17/17 [00:00<00:00, 38.36it/s]\n",
      "100%|██████████| 17/17 [00:00<00:00, 91.13it/s]\n",
      "100%|██████████| 31/31 [00:00<00:00, 7047.34it/s]\n"
     ]
    },
    {
     "name": "stdout",
     "output_type": "stream",
     "text": [
      "-------------------------------------------------------------------------------\n",
      "Validated system: Ti-Cd\n",
      "Discrepancies in emto set: 0\n",
      "Discrepancies in vasp set: 0\n"
     ]
    },
    {
     "name": "stderr",
     "output_type": "stream",
     "text": [
      "100%|██████████| 17/17 [00:00<00:00, 42.29it/s]\n",
      "100%|██████████| 17/17 [00:00<00:00, 87.75it/s]\n",
      "100%|██████████| 31/31 [00:00<00:00, 7307.97it/s]\n"
     ]
    },
    {
     "name": "stdout",
     "output_type": "stream",
     "text": [
      "-------------------------------------------------------------------------------\n",
      "Validated system: Ti-Co\n",
      "Discrepancies in emto set: 0\n",
      "Discrepancies in vasp set: 0\n"
     ]
    },
    {
     "name": "stderr",
     "output_type": "stream",
     "text": [
      "100%|██████████| 17/17 [00:00<00:00, 42.31it/s]\n",
      "100%|██████████| 17/17 [00:00<00:00, 87.98it/s]\n",
      "100%|██████████| 31/31 [00:00<00:00, 7248.09it/s]\n"
     ]
    },
    {
     "name": "stdout",
     "output_type": "stream",
     "text": [
      "-------------------------------------------------------------------------------\n",
      "Validated system: Ti-Cr\n",
      "Discrepancies in emto set: 0\n",
      "Discrepancies in vasp set: 0\n"
     ]
    },
    {
     "name": "stderr",
     "output_type": "stream",
     "text": [
      "100%|██████████| 17/17 [00:00<00:00, 44.14it/s]\n",
      "100%|██████████| 17/17 [00:00<00:00, 90.62it/s]\n",
      "100%|██████████| 31/31 [00:00<00:00, 7424.82it/s]\n"
     ]
    },
    {
     "name": "stdout",
     "output_type": "stream",
     "text": [
      "-------------------------------------------------------------------------------\n",
      "Validated system: Ti-Cu\n",
      "Discrepancies in emto set: 0\n",
      "Discrepancies in vasp set: 0\n"
     ]
    },
    {
     "name": "stderr",
     "output_type": "stream",
     "text": [
      "100%|██████████| 17/17 [00:00<00:00, 44.27it/s]\n",
      "100%|██████████| 17/17 [00:00<00:00, 88.85it/s]\n",
      "100%|██████████| 31/31 [00:00<00:00, 7139.44it/s]\n"
     ]
    },
    {
     "name": "stdout",
     "output_type": "stream",
     "text": [
      "-------------------------------------------------------------------------------\n",
      "Validated system: Ti-Fe\n",
      "Discrepancies in emto set: 0\n",
      "Discrepancies in vasp set: 0\n"
     ]
    },
    {
     "name": "stderr",
     "output_type": "stream",
     "text": [
      "100%|██████████| 17/17 [00:00<00:00, 41.40it/s]\n",
      "100%|██████████| 17/17 [00:00<00:00, 85.27it/s]\n",
      "100%|██████████| 31/31 [00:00<00:00, 6971.02it/s]\n"
     ]
    },
    {
     "name": "stdout",
     "output_type": "stream",
     "text": [
      "-------------------------------------------------------------------------------\n",
      "Validated system: Ti-Ga\n",
      "Discrepancies in emto set: 0\n",
      "Discrepancies in vasp set: 0\n"
     ]
    },
    {
     "name": "stderr",
     "output_type": "stream",
     "text": [
      "100%|██████████| 17/17 [00:00<00:00, 42.73it/s]\n",
      "100%|██████████| 17/17 [00:00<00:00, 90.24it/s]\n",
      "100%|██████████| 31/31 [00:00<00:00, 7356.35it/s]\n"
     ]
    },
    {
     "name": "stdout",
     "output_type": "stream",
     "text": [
      "-------------------------------------------------------------------------------\n",
      "Validated system: Ti-Ge\n",
      "Discrepancies in emto set: 0\n",
      "Discrepancies in vasp set: 0\n"
     ]
    },
    {
     "name": "stderr",
     "output_type": "stream",
     "text": [
      "100%|██████████| 17/17 [00:00<00:00, 42.89it/s]\n",
      "100%|██████████| 17/17 [00:00<00:00, 86.79it/s]\n",
      "100%|██████████| 31/31 [00:00<00:00, 7307.97it/s]\n"
     ]
    },
    {
     "name": "stdout",
     "output_type": "stream",
     "text": [
      "-------------------------------------------------------------------------------\n",
      "Validated system: Ti-Hf\n",
      "Discrepancies in emto set: 0\n",
      "Discrepancies in vasp set: 0\n"
     ]
    },
    {
     "name": "stderr",
     "output_type": "stream",
     "text": [
      "100%|██████████| 17/17 [00:00<00:00, 60.30it/s]\n",
      "100%|██████████| 17/17 [00:00<00:00, 123.61it/s]\n",
      "100%|██████████| 21/21 [00:00<00:00, 6765.53it/s]\n"
     ]
    },
    {
     "name": "stdout",
     "output_type": "stream",
     "text": [
      "-------------------------------------------------------------------------------\n",
      "Validated system: Ti-Hg\n",
      "Discrepancies in emto set: 0\n",
      "Discrepancies in vasp set: 0\n"
     ]
    },
    {
     "name": "stderr",
     "output_type": "stream",
     "text": [
      "100%|██████████| 17/17 [00:00<00:00, 43.48it/s]\n",
      "100%|██████████| 17/17 [00:00<00:00, 90.47it/s]\n",
      "100%|██████████| 31/31 [00:00<00:00, 7032.86it/s]\n"
     ]
    },
    {
     "name": "stdout",
     "output_type": "stream",
     "text": [
      "-------------------------------------------------------------------------------\n",
      "Validated system: Ti-In\n",
      "Discrepancies in emto set: 0\n",
      "Discrepancies in vasp set: 0\n"
     ]
    },
    {
     "name": "stderr",
     "output_type": "stream",
     "text": [
      "100%|██████████| 17/17 [00:00<00:00, 39.75it/s]\n",
      "100%|██████████| 17/17 [00:00<00:00, 85.24it/s]\n",
      "100%|██████████| 31/31 [00:00<00:00, 7305.92it/s]\n"
     ]
    },
    {
     "name": "stdout",
     "output_type": "stream",
     "text": [
      "-------------------------------------------------------------------------------\n",
      "Validated system: Ti-Ir\n",
      "Discrepancies in emto set: 0\n",
      "Discrepancies in vasp set: 0\n"
     ]
    },
    {
     "name": "stderr",
     "output_type": "stream",
     "text": [
      "100%|██████████| 17/17 [00:00<00:00, 41.33it/s]\n",
      "100%|██████████| 17/17 [00:00<00:00, 81.99it/s]\n",
      "100%|██████████| 32/32 [00:00<00:00, 7294.05it/s]\n"
     ]
    },
    {
     "name": "stdout",
     "output_type": "stream",
     "text": [
      "-------------------------------------------------------------------------------\n",
      "Validated system: Ti-Mn\n",
      "Discrepancies in emto set: 0\n",
      "Discrepancies in vasp set: 0\n"
     ]
    },
    {
     "name": "stderr",
     "output_type": "stream",
     "text": [
      "100%|██████████| 17/17 [00:00<00:00, 42.01it/s]\n",
      "100%|██████████| 17/17 [00:00<00:00, 87.03it/s]\n",
      "100%|██████████| 31/31 [00:00<00:00, 7161.06it/s]\n"
     ]
    },
    {
     "name": "stdout",
     "output_type": "stream",
     "text": [
      "-------------------------------------------------------------------------------\n",
      "Validated system: Ti-Mo\n",
      "Discrepancies in emto set: 0\n",
      "Discrepancies in vasp set: 0\n"
     ]
    },
    {
     "name": "stderr",
     "output_type": "stream",
     "text": [
      "100%|██████████| 17/17 [00:00<00:00, 40.75it/s]\n",
      "100%|██████████| 17/17 [00:00<00:00, 86.23it/s]\n",
      "100%|██████████| 32/32 [00:00<00:00, 7237.80it/s]\n"
     ]
    },
    {
     "name": "stdout",
     "output_type": "stream",
     "text": [
      "-------------------------------------------------------------------------------\n",
      "Validated system: Ti-Nb\n",
      "Discrepancies in emto set: 0\n",
      "Discrepancies in vasp set: 0\n"
     ]
    },
    {
     "name": "stderr",
     "output_type": "stream",
     "text": [
      "100%|██████████| 17/17 [00:00<00:00, 40.11it/s]\n",
      "100%|██████████| 17/17 [00:00<00:00, 85.92it/s]\n",
      "100%|██████████| 32/32 [00:00<00:00, 7304.37it/s]\n"
     ]
    },
    {
     "name": "stdout",
     "output_type": "stream",
     "text": [
      "-------------------------------------------------------------------------------\n",
      "Validated system: Ti-Ni\n",
      "Discrepancies in emto set: 0\n",
      "Discrepancies in vasp set: 0\n"
     ]
    },
    {
     "name": "stderr",
     "output_type": "stream",
     "text": [
      "100%|██████████| 17/17 [00:00<00:00, 42.18it/s]\n",
      "100%|██████████| 17/17 [00:00<00:00, 89.96it/s]\n",
      "100%|██████████| 31/31 [00:00<00:00, 7368.85it/s]\n"
     ]
    },
    {
     "name": "stdout",
     "output_type": "stream",
     "text": [
      "-------------------------------------------------------------------------------\n",
      "Validated system: Ti-Os\n",
      "Discrepancies in emto set: 0\n",
      "Discrepancies in vasp set: 0\n"
     ]
    },
    {
     "name": "stderr",
     "output_type": "stream",
     "text": [
      "100%|██████████| 17/17 [00:00<00:00, 42.59it/s]\n",
      "100%|██████████| 17/17 [00:00<00:00, 86.28it/s]\n",
      "100%|██████████| 32/32 [00:00<00:00, 7417.80it/s]\n"
     ]
    },
    {
     "name": "stdout",
     "output_type": "stream",
     "text": [
      "-------------------------------------------------------------------------------\n",
      "Validated system: Ti-Pd\n",
      "Discrepancies in emto set: 0\n",
      "Discrepancies in vasp set: 0\n"
     ]
    },
    {
     "name": "stderr",
     "output_type": "stream",
     "text": [
      "100%|██████████| 17/17 [00:00<00:00, 42.34it/s]\n",
      "100%|██████████| 17/17 [00:00<00:00, 91.73it/s]\n",
      "100%|██████████| 31/31 [00:00<00:00, 7464.46it/s]\n"
     ]
    },
    {
     "name": "stdout",
     "output_type": "stream",
     "text": [
      "-------------------------------------------------------------------------------\n",
      "Validated system: Ti-Pt\n",
      "Discrepancies in emto set: 0\n",
      "Discrepancies in vasp set: 0\n"
     ]
    },
    {
     "name": "stderr",
     "output_type": "stream",
     "text": [
      "100%|██████████| 17/17 [00:00<00:00, 42.17it/s]\n",
      "100%|██████████| 17/17 [00:00<00:00, 91.31it/s]\n",
      "100%|██████████| 31/31 [00:00<00:00, 7462.75it/s]\n"
     ]
    },
    {
     "name": "stdout",
     "output_type": "stream",
     "text": [
      "-------------------------------------------------------------------------------\n",
      "Validated system: Ti-Re\n",
      "Discrepancies in emto set: 0\n",
      "Discrepancies in vasp set: 0\n"
     ]
    },
    {
     "name": "stderr",
     "output_type": "stream",
     "text": [
      "100%|██████████| 17/17 [00:00<00:00, 42.74it/s]\n",
      "100%|██████████| 17/17 [00:00<00:00, 87.57it/s]\n",
      "100%|██████████| 32/32 [00:00<00:00, 7051.47it/s]\n"
     ]
    },
    {
     "name": "stdout",
     "output_type": "stream",
     "text": [
      "-------------------------------------------------------------------------------\n",
      "Validated system: Ti-Rh\n",
      "Discrepancies in emto set: 0\n",
      "Discrepancies in vasp set: 0\n"
     ]
    },
    {
     "name": "stderr",
     "output_type": "stream",
     "text": [
      "100%|██████████| 17/17 [00:00<00:00, 41.69it/s]\n",
      "100%|██████████| 17/17 [00:00<00:00, 83.48it/s]\n",
      "100%|██████████| 32/32 [00:00<00:00, 7424.37it/s]\n"
     ]
    },
    {
     "name": "stdout",
     "output_type": "stream",
     "text": [
      "-------------------------------------------------------------------------------\n",
      "Validated system: Ti-Ru\n",
      "Discrepancies in emto set: 0\n",
      "Discrepancies in vasp set: 0\n"
     ]
    },
    {
     "name": "stderr",
     "output_type": "stream",
     "text": [
      "100%|██████████| 17/17 [00:00<00:00, 41.85it/s]\n",
      "100%|██████████| 17/17 [00:00<00:00, 88.64it/s]\n",
      "100%|██████████| 32/32 [00:00<00:00, 7469.82it/s]\n"
     ]
    },
    {
     "name": "stdout",
     "output_type": "stream",
     "text": [
      "-------------------------------------------------------------------------------\n",
      "Validated system: Ti-Sc\n",
      "Discrepancies in emto set: 0\n",
      "Discrepancies in vasp set: 0\n"
     ]
    },
    {
     "name": "stderr",
     "output_type": "stream",
     "text": [
      "100%|██████████| 17/17 [00:00<00:00, 57.41it/s]\n",
      "100%|██████████| 17/17 [00:00<00:00, 119.87it/s]\n",
      "100%|██████████| 21/21 [00:00<00:00, 5893.64it/s]\n"
     ]
    },
    {
     "name": "stdout",
     "output_type": "stream",
     "text": [
      "-------------------------------------------------------------------------------\n",
      "Validated system: Ti-Sn\n",
      "Discrepancies in emto set: 0\n",
      "Discrepancies in vasp set: 0\n"
     ]
    },
    {
     "name": "stderr",
     "output_type": "stream",
     "text": [
      "100%|██████████| 17/17 [00:00<00:00, 40.87it/s]\n",
      "100%|██████████| 17/17 [00:00<00:00, 79.93it/s]\n",
      "100%|██████████| 31/31 [00:00<00:00, 7263.47it/s]\n"
     ]
    },
    {
     "name": "stdout",
     "output_type": "stream",
     "text": [
      "-------------------------------------------------------------------------------\n",
      "Validated system: Ti-Ta\n",
      "Discrepancies in emto set: 0\n",
      "Discrepancies in vasp set: 0\n"
     ]
    },
    {
     "name": "stderr",
     "output_type": "stream",
     "text": [
      "100%|██████████| 17/17 [00:00<00:00, 41.92it/s]\n",
      "100%|██████████| 17/17 [00:00<00:00, 87.09it/s]\n",
      "100%|██████████| 32/32 [00:00<00:00, 7356.41it/s]\n"
     ]
    },
    {
     "name": "stdout",
     "output_type": "stream",
     "text": [
      "-------------------------------------------------------------------------------\n",
      "Validated system: Ti-Tc\n",
      "Discrepancies in emto set: 0\n",
      "Discrepancies in vasp set: 0\n"
     ]
    },
    {
     "name": "stderr",
     "output_type": "stream",
     "text": [
      "100%|██████████| 17/17 [00:00<00:00, 40.71it/s]\n",
      "100%|██████████| 17/17 [00:00<00:00, 87.23it/s]\n",
      "100%|██████████| 32/32 [00:00<00:00, 7417.80it/s]\n"
     ]
    },
    {
     "name": "stdout",
     "output_type": "stream",
     "text": [
      "-------------------------------------------------------------------------------\n",
      "Validated system: Ti-V\n",
      "Discrepancies in emto set: 0\n",
      "Discrepancies in vasp set: 0\n"
     ]
    },
    {
     "name": "stderr",
     "output_type": "stream",
     "text": [
      "100%|██████████| 17/17 [00:00<00:00, 42.35it/s]\n",
      "100%|██████████| 17/17 [00:00<00:00, 87.51it/s]\n",
      "100%|██████████| 31/31 [00:00<00:00, 7227.54it/s]\n"
     ]
    },
    {
     "name": "stdout",
     "output_type": "stream",
     "text": [
      "-------------------------------------------------------------------------------\n",
      "Validated system: Ti-W\n",
      "Discrepancies in emto set: 0\n",
      "Discrepancies in vasp set: 0\n"
     ]
    },
    {
     "name": "stderr",
     "output_type": "stream",
     "text": [
      "100%|██████████| 17/17 [00:00<00:00, 39.43it/s]\n",
      "100%|██████████| 17/17 [00:00<00:00, 86.13it/s]\n",
      "100%|██████████| 32/32 [00:00<00:00, 7247.96it/s]\n"
     ]
    },
    {
     "name": "stdout",
     "output_type": "stream",
     "text": [
      "-------------------------------------------------------------------------------\n",
      "Validated system: Ti-Y\n",
      "Discrepancies in emto set: 0\n",
      "Discrepancies in vasp set: 0\n"
     ]
    },
    {
     "name": "stderr",
     "output_type": "stream",
     "text": [
      "100%|██████████| 17/17 [00:00<00:00, 55.93it/s]\n",
      "100%|██████████| 17/17 [00:00<00:00, 131.30it/s]\n",
      "100%|██████████| 21/21 [00:00<00:00, 6396.54it/s]\n"
     ]
    },
    {
     "name": "stdout",
     "output_type": "stream",
     "text": [
      "-------------------------------------------------------------------------------\n",
      "Validated system: Ti-Zn\n",
      "Discrepancies in emto set: 0\n",
      "Discrepancies in vasp set: 0\n"
     ]
    },
    {
     "name": "stderr",
     "output_type": "stream",
     "text": [
      "100%|██████████| 17/17 [00:00<00:00, 37.64it/s]\n",
      "100%|██████████| 17/17 [00:00<00:00, 79.97it/s]\n",
      "100%|██████████| 31/31 [00:00<00:00, 6896.70it/s]\n"
     ]
    },
    {
     "name": "stdout",
     "output_type": "stream",
     "text": [
      "-------------------------------------------------------------------------------\n",
      "Validated system: Ti-Zr\n",
      "Discrepancies in emto set: 0\n",
      "Discrepancies in vasp set: 0\n"
     ]
    },
    {
     "name": "stderr",
     "output_type": "stream",
     "text": [
      "100%|██████████| 17/17 [00:00<00:00, 41.88it/s]\n",
      "100%|██████████| 17/17 [00:00<00:00, 89.73it/s]\n",
      "100%|██████████| 30/30 [00:00<00:00, 6822.60it/s]\n"
     ]
    },
    {
     "name": "stdout",
     "output_type": "stream",
     "text": [
      "-------------------------------------------------------------------------------\n",
      "1/2\n",
      "Validated system: Zr-Ag\n",
      "Discrepancies in emto set: 0\n",
      "Discrepancies in vasp set: 0\n"
     ]
    },
    {
     "name": "stderr",
     "output_type": "stream",
     "text": [
      "100%|██████████| 17/17 [00:00<00:00, 42.70it/s]\n",
      "100%|██████████| 17/17 [00:00<00:00, 76.03it/s]\n",
      "100%|██████████| 30/30 [00:00<00:00, 6710.17it/s]\n"
     ]
    },
    {
     "name": "stdout",
     "output_type": "stream",
     "text": [
      "-------------------------------------------------------------------------------\n",
      "Validated system: Zr-Al\n",
      "Discrepancies in emto set: 0\n",
      "Discrepancies in vasp set: 0\n"
     ]
    },
    {
     "name": "stderr",
     "output_type": "stream",
     "text": [
      "100%|██████████| 17/17 [00:00<00:00, 41.11it/s]\n",
      "100%|██████████| 17/17 [00:00<00:00, 87.37it/s]\n",
      "100%|██████████| 30/30 [00:00<00:00, 7159.55it/s]\n"
     ]
    },
    {
     "name": "stdout",
     "output_type": "stream",
     "text": [
      "-------------------------------------------------------------------------------\n",
      "Validated system: Zr-Au\n",
      "Discrepancies in emto set: 0\n",
      "Discrepancies in vasp set: 0\n"
     ]
    },
    {
     "name": "stderr",
     "output_type": "stream",
     "text": [
      "100%|██████████| 17/17 [00:00<00:00, 42.51it/s]\n",
      "100%|██████████| 17/17 [00:00<00:00, 93.45it/s]\n",
      "100%|██████████| 30/30 [00:00<00:00, 7468.49it/s]\n"
     ]
    },
    {
     "name": "stdout",
     "output_type": "stream",
     "text": [
      "-------------------------------------------------------------------------------\n",
      "Validated system: Zr-Cd\n",
      "Discrepancies in emto set: 0\n",
      "Discrepancies in vasp set: 0\n"
     ]
    },
    {
     "name": "stderr",
     "output_type": "stream",
     "text": [
      "100%|██████████| 17/17 [00:00<00:00, 42.56it/s]\n",
      "100%|██████████| 17/17 [00:00<00:00, 91.02it/s]\n",
      "100%|██████████| 30/30 [00:00<00:00, 6856.80it/s]\n"
     ]
    },
    {
     "name": "stdout",
     "output_type": "stream",
     "text": [
      "-------------------------------------------------------------------------------\n",
      "Validated system: Zr-Co\n",
      "Discrepancies in emto set: 0\n",
      "Discrepancies in vasp set: 0\n"
     ]
    },
    {
     "name": "stderr",
     "output_type": "stream",
     "text": [
      "100%|██████████| 17/17 [00:00<00:00, 41.07it/s]\n",
      "100%|██████████| 17/17 [00:00<00:00, 88.34it/s]\n",
      "100%|██████████| 30/30 [00:00<00:00, 7270.84it/s]\n"
     ]
    },
    {
     "name": "stdout",
     "output_type": "stream",
     "text": [
      "-------------------------------------------------------------------------------\n",
      "Validated system: Zr-Cr\n",
      "Discrepancies in emto set: 0\n",
      "Discrepancies in vasp set: 0\n"
     ]
    },
    {
     "name": "stderr",
     "output_type": "stream",
     "text": [
      "100%|██████████| 17/17 [00:00<00:00, 41.35it/s]\n",
      "100%|██████████| 17/17 [00:00<00:00, 88.24it/s]\n",
      "100%|██████████| 30/30 [00:00<00:00, 7139.65it/s]\n"
     ]
    },
    {
     "name": "stdout",
     "output_type": "stream",
     "text": [
      "-------------------------------------------------------------------------------\n",
      "Validated system: Zr-Cu\n",
      "Discrepancies in emto set: 0\n",
      "Discrepancies in vasp set: 0\n"
     ]
    },
    {
     "name": "stderr",
     "output_type": "stream",
     "text": [
      "100%|██████████| 17/17 [00:00<00:00, 41.46it/s]\n",
      "100%|██████████| 17/17 [00:00<00:00, 88.35it/s]\n",
      "100%|██████████| 30/30 [00:00<00:00, 7372.66it/s]\n"
     ]
    },
    {
     "name": "stdout",
     "output_type": "stream",
     "text": [
      "-------------------------------------------------------------------------------\n",
      "Validated system: Zr-Fe\n",
      "Discrepancies in emto set: 0\n",
      "Discrepancies in vasp set: 0\n"
     ]
    },
    {
     "name": "stderr",
     "output_type": "stream",
     "text": [
      "100%|██████████| 17/17 [00:00<00:00, 42.01it/s]\n",
      "100%|██████████| 17/17 [00:00<00:00, 89.69it/s]\n",
      "100%|██████████| 30/30 [00:00<00:00, 7248.22it/s]\n"
     ]
    },
    {
     "name": "stdout",
     "output_type": "stream",
     "text": [
      "-------------------------------------------------------------------------------\n",
      "Validated system: Zr-Ga\n",
      "Discrepancies in emto set: 0\n",
      "Discrepancies in vasp set: 0\n"
     ]
    },
    {
     "name": "stderr",
     "output_type": "stream",
     "text": [
      "100%|██████████| 17/17 [00:00<00:00, 42.32it/s]\n",
      "100%|██████████| 17/17 [00:00<00:00, 88.98it/s]\n",
      "100%|██████████| 30/30 [00:00<00:00, 7294.02it/s]\n"
     ]
    },
    {
     "name": "stdout",
     "output_type": "stream",
     "text": [
      "-------------------------------------------------------------------------------\n",
      "Validated system: Zr-Ge\n",
      "Discrepancies in emto set: 0\n",
      "Discrepancies in vasp set: 0\n"
     ]
    },
    {
     "name": "stderr",
     "output_type": "stream",
     "text": [
      "100%|██████████| 17/17 [00:00<00:00, 41.52it/s]\n",
      "100%|██████████| 17/17 [00:00<00:00, 85.50it/s]\n",
      "100%|██████████| 30/30 [00:00<00:00, 7177.11it/s]\n"
     ]
    },
    {
     "name": "stdout",
     "output_type": "stream",
     "text": [
      "-------------------------------------------------------------------------------\n",
      "Validated system: Zr-Hf\n",
      "Discrepancies in emto set: 0\n",
      "Discrepancies in vasp set: 0\n"
     ]
    },
    {
     "name": "stderr",
     "output_type": "stream",
     "text": [
      "100%|██████████| 17/17 [00:00<00:00, 34.35it/s]\n",
      "100%|██████████| 17/17 [00:00<00:00, 88.74it/s]\n",
      "100%|██████████| 30/30 [00:00<00:00, 7111.00it/s]\n"
     ]
    },
    {
     "name": "stdout",
     "output_type": "stream",
     "text": [
      "-------------------------------------------------------------------------------\n",
      "Validated system: Zr-Hg\n",
      "Discrepancies in emto set: 0\n",
      "Discrepancies in vasp set: 0\n"
     ]
    },
    {
     "name": "stderr",
     "output_type": "stream",
     "text": [
      "100%|██████████| 17/17 [00:00<00:00, 40.21it/s]\n",
      "100%|██████████| 17/17 [00:00<00:00, 90.60it/s]\n",
      "100%|██████████| 30/30 [00:00<00:00, 7194.35it/s]\n"
     ]
    },
    {
     "name": "stdout",
     "output_type": "stream",
     "text": [
      "-------------------------------------------------------------------------------\n",
      "Validated system: Zr-In\n",
      "Discrepancies in emto set: 0\n",
      "Discrepancies in vasp set: 0\n"
     ]
    },
    {
     "name": "stderr",
     "output_type": "stream",
     "text": [
      "100%|██████████| 17/17 [00:00<00:00, 39.18it/s]\n",
      "100%|██████████| 17/17 [00:00<00:00, 87.46it/s]\n",
      "100%|██████████| 30/30 [00:00<00:00, 7230.73it/s]\n"
     ]
    },
    {
     "name": "stdout",
     "output_type": "stream",
     "text": [
      "-------------------------------------------------------------------------------\n",
      "Validated system: Zr-Ir\n",
      "Discrepancies in emto set: 0\n",
      "Discrepancies in vasp set: 0\n"
     ]
    },
    {
     "name": "stderr",
     "output_type": "stream",
     "text": [
      "100%|██████████| 17/17 [00:00<00:00, 37.44it/s]\n",
      "100%|██████████| 17/17 [00:00<00:00, 83.58it/s]\n",
      "100%|██████████| 31/31 [00:00<00:00, 7102.00it/s]\n"
     ]
    },
    {
     "name": "stdout",
     "output_type": "stream",
     "text": [
      "-------------------------------------------------------------------------------\n",
      "Validated system: Zr-Mn\n",
      "Discrepancies in emto set: 0\n",
      "Discrepancies in vasp set: 0\n"
     ]
    },
    {
     "name": "stderr",
     "output_type": "stream",
     "text": [
      "100%|██████████| 17/17 [00:00<00:00, 35.70it/s]\n",
      "100%|██████████| 17/17 [00:00<00:00, 87.02it/s]\n",
      "100%|██████████| 30/30 [00:00<00:00, 7058.74it/s]\n"
     ]
    },
    {
     "name": "stdout",
     "output_type": "stream",
     "text": [
      "-------------------------------------------------------------------------------\n",
      "Validated system: Zr-Mo\n",
      "Discrepancies in emto set: 0\n",
      "Discrepancies in vasp set: 0\n"
     ]
    },
    {
     "name": "stderr",
     "output_type": "stream",
     "text": [
      "100%|██████████| 17/17 [00:00<00:00, 37.73it/s]\n",
      "100%|██████████| 17/17 [00:00<00:00, 84.63it/s]\n",
      "100%|██████████| 31/31 [00:00<00:00, 6708.46it/s]\n"
     ]
    },
    {
     "name": "stdout",
     "output_type": "stream",
     "text": [
      "-------------------------------------------------------------------------------\n",
      "Validated system: Zr-Nb\n",
      "Discrepancies in emto set: 0\n",
      "Discrepancies in vasp set: 0\n"
     ]
    },
    {
     "name": "stderr",
     "output_type": "stream",
     "text": [
      "100%|██████████| 17/17 [00:00<00:00, 41.29it/s]\n",
      "100%|██████████| 17/17 [00:00<00:00, 85.12it/s]\n",
      "100%|██████████| 31/31 [00:00<00:00, 6877.00it/s]\n"
     ]
    },
    {
     "name": "stdout",
     "output_type": "stream",
     "text": [
      "-------------------------------------------------------------------------------\n",
      "Validated system: Zr-Ni\n",
      "Discrepancies in emto set: 0\n",
      "Discrepancies in vasp set: 0\n"
     ]
    },
    {
     "name": "stderr",
     "output_type": "stream",
     "text": [
      "100%|██████████| 17/17 [00:00<00:00, 40.94it/s]\n",
      "100%|██████████| 17/17 [00:00<00:00, 87.81it/s]\n",
      "100%|██████████| 30/30 [00:00<00:00, 5467.27it/s]\n"
     ]
    },
    {
     "name": "stdout",
     "output_type": "stream",
     "text": [
      "-------------------------------------------------------------------------------\n",
      "Validated system: Zr-Os\n",
      "Discrepancies in emto set: 0\n",
      "Discrepancies in vasp set: 0\n"
     ]
    },
    {
     "name": "stderr",
     "output_type": "stream",
     "text": [
      "100%|██████████| 17/17 [00:00<00:00, 41.92it/s]\n",
      "100%|██████████| 17/17 [00:00<00:00, 85.08it/s]\n",
      "100%|██████████| 31/31 [00:00<00:00, 5026.23it/s]\n"
     ]
    },
    {
     "name": "stdout",
     "output_type": "stream",
     "text": [
      "-------------------------------------------------------------------------------\n",
      "Validated system: Zr-Pd\n",
      "Discrepancies in emto set: 0\n",
      "Discrepancies in vasp set: 0\n"
     ]
    },
    {
     "name": "stderr",
     "output_type": "stream",
     "text": [
      "100%|██████████| 17/17 [00:00<00:00, 39.89it/s]\n",
      "100%|██████████| 17/17 [00:00<00:00, 80.84it/s]\n",
      "100%|██████████| 30/30 [00:00<00:00, 7088.96it/s]\n"
     ]
    },
    {
     "name": "stdout",
     "output_type": "stream",
     "text": [
      "-------------------------------------------------------------------------------\n",
      "Validated system: Zr-Pt\n",
      "Discrepancies in emto set: 0\n",
      "Discrepancies in vasp set: 0\n"
     ]
    },
    {
     "name": "stderr",
     "output_type": "stream",
     "text": [
      "100%|██████████| 17/17 [00:00<00:00, 40.78it/s]\n",
      "100%|██████████| 17/17 [00:00<00:00, 77.96it/s]\n",
      "100%|██████████| 30/30 [00:00<00:00, 6422.80it/s]\n"
     ]
    },
    {
     "name": "stdout",
     "output_type": "stream",
     "text": [
      "-------------------------------------------------------------------------------\n",
      "Validated system: Zr-Re\n",
      "Discrepancies in emto set: 0\n",
      "Discrepancies in vasp set: 0\n"
     ]
    },
    {
     "name": "stderr",
     "output_type": "stream",
     "text": [
      "100%|██████████| 17/17 [00:00<00:00, 39.20it/s]\n",
      "100%|██████████| 17/17 [00:00<00:00, 88.11it/s]\n",
      "100%|██████████| 31/31 [00:00<00:00, 7360.09it/s]\n"
     ]
    },
    {
     "name": "stdout",
     "output_type": "stream",
     "text": [
      "-------------------------------------------------------------------------------\n",
      "Validated system: Zr-Rh\n",
      "Discrepancies in emto set: 0\n",
      "Discrepancies in vasp set: 0\n"
     ]
    },
    {
     "name": "stderr",
     "output_type": "stream",
     "text": [
      "100%|██████████| 17/17 [00:00<00:00, 40.78it/s]\n",
      "100%|██████████| 17/17 [00:00<00:00, 85.01it/s]\n",
      "100%|██████████| 31/31 [00:00<00:00, 5973.97it/s]\n"
     ]
    },
    {
     "name": "stdout",
     "output_type": "stream",
     "text": [
      "-------------------------------------------------------------------------------\n",
      "Validated system: Zr-Ru\n",
      "Discrepancies in emto set: 0\n",
      "Discrepancies in vasp set: 0\n"
     ]
    },
    {
     "name": "stderr",
     "output_type": "stream",
     "text": [
      "100%|██████████| 17/17 [00:00<00:00, 42.66it/s]\n",
      "100%|██████████| 17/17 [00:00<00:00, 88.21it/s]\n",
      "100%|██████████| 31/31 [00:00<00:00, 7391.47it/s]\n"
     ]
    },
    {
     "name": "stdout",
     "output_type": "stream",
     "text": [
      "-------------------------------------------------------------------------------\n",
      "Validated system: Zr-Sc\n",
      "Discrepancies in emto set: 0\n",
      "Discrepancies in vasp set: 0\n"
     ]
    },
    {
     "name": "stderr",
     "output_type": "stream",
     "text": [
      "100%|██████████| 17/17 [00:00<00:00, 41.87it/s]\n",
      "100%|██████████| 17/17 [00:00<00:00, 91.66it/s]\n",
      "100%|██████████| 30/30 [00:00<00:00, 7053.99it/s]\n"
     ]
    },
    {
     "name": "stdout",
     "output_type": "stream",
     "text": [
      "-------------------------------------------------------------------------------\n",
      "Validated system: Zr-Sn\n",
      "Discrepancies in emto set: 0\n",
      "Discrepancies in vasp set: 0\n"
     ]
    },
    {
     "name": "stderr",
     "output_type": "stream",
     "text": [
      "100%|██████████| 17/17 [00:00<00:00, 39.18it/s]\n",
      "100%|██████████| 17/17 [00:00<00:00, 80.34it/s]\n",
      "100%|██████████| 30/30 [00:00<00:00, 6874.41it/s]\n"
     ]
    },
    {
     "name": "stdout",
     "output_type": "stream",
     "text": [
      "-------------------------------------------------------------------------------\n",
      "Validated system: Zr-Ta\n",
      "Discrepancies in emto set: 0\n",
      "Discrepancies in vasp set: 0\n"
     ]
    },
    {
     "name": "stderr",
     "output_type": "stream",
     "text": [
      "100%|██████████| 17/17 [00:00<00:00, 35.55it/s]\n",
      "100%|██████████| 17/17 [00:00<00:00, 75.09it/s]\n",
      "100%|██████████| 31/31 [00:00<00:00, 6375.89it/s]\n"
     ]
    },
    {
     "name": "stdout",
     "output_type": "stream",
     "text": [
      "-------------------------------------------------------------------------------\n",
      "Validated system: Zr-Tc\n",
      "Discrepancies in emto set: 0\n",
      "Discrepancies in vasp set: 0\n"
     ]
    },
    {
     "name": "stderr",
     "output_type": "stream",
     "text": [
      "100%|██████████| 17/17 [00:00<00:00, 38.45it/s]\n",
      "100%|██████████| 17/17 [00:00<00:00, 85.81it/s]\n",
      "100%|██████████| 31/31 [00:00<00:00, 6263.77it/s]\n"
     ]
    },
    {
     "name": "stdout",
     "output_type": "stream",
     "text": [
      "-------------------------------------------------------------------------------\n",
      "Validated system: Zr-Ti\n",
      "Discrepancies in emto set: 0\n",
      "Discrepancies in vasp set: 0\n"
     ]
    },
    {
     "name": "stderr",
     "output_type": "stream",
     "text": [
      "100%|██████████| 17/17 [00:00<00:00, 36.68it/s]\n",
      "100%|██████████| 17/17 [00:00<00:00, 79.52it/s]\n",
      "100%|██████████| 30/30 [00:00<00:00, 6571.40it/s]\n"
     ]
    },
    {
     "name": "stdout",
     "output_type": "stream",
     "text": [
      "-------------------------------------------------------------------------------\n",
      "Validated system: Zr-V\n",
      "Discrepancies in emto set: 0\n",
      "Discrepancies in vasp set: 0\n"
     ]
    },
    {
     "name": "stderr",
     "output_type": "stream",
     "text": [
      "100%|██████████| 17/17 [00:00<00:00, 38.62it/s]\n",
      "100%|██████████| 17/17 [00:00<00:00, 88.04it/s]\n",
      "100%|██████████| 30/30 [00:00<00:00, 6830.74it/s]\n"
     ]
    },
    {
     "name": "stdout",
     "output_type": "stream",
     "text": [
      "-------------------------------------------------------------------------------\n",
      "Validated system: Zr-W\n",
      "Discrepancies in emto set: 0\n",
      "Discrepancies in vasp set: 0\n"
     ]
    },
    {
     "name": "stderr",
     "output_type": "stream",
     "text": [
      "100%|██████████| 17/17 [00:00<00:00, 41.13it/s]\n",
      "100%|██████████| 17/17 [00:00<00:00, 85.53it/s]\n",
      "100%|██████████| 31/31 [00:00<00:00, 7294.03it/s]\n"
     ]
    },
    {
     "name": "stdout",
     "output_type": "stream",
     "text": [
      "-------------------------------------------------------------------------------\n",
      "Validated system: Zr-Y\n",
      "Discrepancies in emto set: 0\n",
      "Discrepancies in vasp set: 0\n"
     ]
    },
    {
     "name": "stderr",
     "output_type": "stream",
     "text": [
      "100%|██████████| 17/17 [00:00<00:00, 41.41it/s]\n",
      "100%|██████████| 17/17 [00:00<00:00, 87.16it/s]\n",
      "100%|██████████| 30/30 [00:00<00:00, 7264.12it/s]\n"
     ]
    },
    {
     "name": "stdout",
     "output_type": "stream",
     "text": [
      "-------------------------------------------------------------------------------\n",
      "Validated system: Zr-Zn\n",
      "Discrepancies in emto set: 0\n",
      "Discrepancies in vasp set: 0\n"
     ]
    },
    {
     "name": "stderr",
     "output_type": "stream",
     "text": [
      "100%|██████████| 17/17 [00:00<00:00, 39.91it/s]\n",
      "100%|██████████| 17/17 [00:00<00:00, 89.13it/s]\n",
      "100%|██████████| 30/30 [00:00<00:00, 6687.70it/s]"
     ]
    },
    {
     "name": "stdout",
     "output_type": "stream",
     "text": [
      "-------------------------------------------------------------------------------\n",
      "2/2\n"
     ]
    },
    {
     "name": "stderr",
     "output_type": "stream",
     "text": [
      "\n"
     ]
    }
   ],
   "source": [
    "tmp_df = get_set_for_system_fold_cv(df_emto, df_vasp, prop_to_pred)\n",
    "\n",
    "tmp_df_emto = X1.copy()\n",
    "tmp_df_emto[prop_to_pred] = df_emto[prop_to_pred]\n",
    "\n",
    "tmp_df_vasp = X2.copy()\n",
    "tmp_df_vasp[prop_to_pred] = df_vasp[prop_to_pred]\n",
    "\n",
    "results,metrics = system_fold_cv(tmp_df,\n",
    "                           model1, model2,\n",
    "                           prop_to_pred,\n",
    "                           tmp_df_emto, tmp_df_vasp)"
   ]
  },
  {
   "cell_type": "code",
   "execution_count": 33,
   "id": "5d8a711e-e339-4afb-bbaa-d155e38a9b2a",
   "metadata": {},
   "outputs": [
    {
     "data": {
      "text/html": [
       "<div>\n",
       "<style scoped>\n",
       "    .dataframe tbody tr th:only-of-type {\n",
       "        vertical-align: middle;\n",
       "    }\n",
       "\n",
       "    .dataframe tbody tr th {\n",
       "        vertical-align: top;\n",
       "    }\n",
       "\n",
       "    .dataframe thead th {\n",
       "        text-align: right;\n",
       "    }\n",
       "</style>\n",
       "<table border=\"1\" class=\"dataframe\">\n",
       "  <thead>\n",
       "    <tr style=\"text-align: right;\">\n",
       "      <th></th>\n",
       "      <th>r2_EMTO</th>\n",
       "      <th>MAE_EMTO</th>\n",
       "      <th>r2_VASP</th>\n",
       "      <th>MAE_VASP</th>\n",
       "    </tr>\n",
       "  </thead>\n",
       "  <tbody>\n",
       "    <tr>\n",
       "      <th>0</th>\n",
       "      <td>0.889</td>\n",
       "      <td>4.27</td>\n",
       "      <td>0.942</td>\n",
       "      <td>3.803</td>\n",
       "    </tr>\n",
       "  </tbody>\n",
       "</table>\n",
       "</div>"
      ],
      "text/plain": [
       "   r2_EMTO  MAE_EMTO  r2_VASP  MAE_VASP\n",
       "0    0.889      4.27    0.942     3.803"
      ]
     },
     "metadata": {},
     "output_type": "display_data"
    },
    {
     "data": {
      "text/plain": [
       "<seaborn.axisgrid.JointGrid at 0x7ff22603b2b0>"
      ]
     },
     "execution_count": 33,
     "metadata": {},
     "output_type": "execute_result"
    },
    {
     "data": {
      "image/png": "[encoded data removed]",
      "text/plain": [
       "<Figure size 600x600 with 3 Axes>"
      ]
     },
     "metadata": {},
     "output_type": "display_data"
    },
    {
     "data": {
      "image/png": "[encoded data removed]",
      "text/plain": [
       "<Figure size 600x600 with 3 Axes>"
      ]
     },
     "metadata": {},
     "output_type": "display_data"
    }
   ],
   "source": [
    "display(metrics)\n",
    "sns.jointplot(x = results['True_EMTO'].values, y=results['Pred_EMTO'].values, \n",
    "              kind='reg')\n",
    "sns.jointplot(x = results['True_VASP'].values, y=results['Pred_VASP'].values, \n",
    "              kind='reg', color='tab:orange')"
   ]
  },
  {
   "cell_type": "markdown",
   "id": "f564916c-ee96-4297-ba2d-1cc84e25d46d",
   "metadata": {},
   "source": [
    "---"
   ]
  }
 ],
 "metadata": {
  "kernelspec": {
   "display_name": "Python 3 (ipykernel)",
   "language": "python",
   "name": "python3"
  },
  "language_info": {
   "codemirror_mode": {
    "name": "ipython",
    "version": 3
   },
   "file_extension": ".py",
   "mimetype": "text/x-python",
   "name": "python",
   "nbconvert_exporter": "python",
   "pygments_lexer": "ipython3",
   "version": "3.10.8"
  }
 },
 "nbformat": 4,
 "nbformat_minor": 5
}
