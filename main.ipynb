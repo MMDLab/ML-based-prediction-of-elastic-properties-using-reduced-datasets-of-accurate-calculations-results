{
 "cells": [
  {
   "cell_type": "code",
   "execution_count": null,
   "id": "29b813fd-bfd0-4ea6-959c-20dd9b252eaf",
   "metadata": {},
   "outputs": [],
   "source": [
    "import pandas as pd"
   ]
  },
  {
   "cell_type": "markdown",
   "id": "51e4f75d-f863-493a-821e-16b976cd699f",
   "metadata": {
    "tags": []
   },
   "source": [
    "# Data loading"
   ]
  },
  {
   "cell_type": "code",
   "execution_count": null,
   "id": "c53a007b-4776-42cf-bdc1-4fed365d8ed3",
   "metadata": {},
   "outputs": [],
   "source": [
    "df_emto = pd.read_json('./raw_data/emto.raw.json')\n",
    "df_vasp = pd.read_json('./raw_data/vasp.raw.json')"
   ]
  },
  {
   "cell_type": "markdown",
   "id": "318b6cde-9575-417c-8c16-a4303a49171e",
   "metadata": {
    "tags": []
   },
   "source": [
    "# Data preprocessing"
   ]
  },
  {
   "cell_type": "code",
   "execution_count": null,
   "id": "868e38a1-bcd2-4fb8-b471-45e81e1b9332",
   "metadata": {},
   "outputs": [],
   "source": [
    "df_emto[['C_prime', 'c11', 'c12','c44', 'B', 'G', 'E']].describe().round().astype(int)"
   ]
  },
  {
   "cell_type": "code",
   "execution_count": null,
   "id": "cd46ef4e-580f-4540-a7bc-65d93c2862eb",
   "metadata": {},
   "outputs": [],
   "source": [
    "df_vasp[['C_prime', 'c11', 'c12','c44', 'B', 'G', 'E']].describe().round().astype(int)"
   ]
  },
  {
   "cell_type": "markdown",
   "id": "24869b50-4a7e-441c-a47b-3fc41871b319",
   "metadata": {},
   "source": [
    "Add info about pure base lement (Ti) in ternaries dataset to add then all possible combinations of base and dopants with concentrations of 0.0"
   ]
  },
  {
   "cell_type": "code",
   "execution_count": null,
   "id": "dfca601c-4f47-41a3-833f-ea3793160b48",
   "metadata": {},
   "outputs": [],
   "source": [
    "import numpy as np\n",
    "from handlers import set_dopants_for_pure_elements"
   ]
  },
  {
   "cell_type": "code",
   "execution_count": null,
   "id": "5d2c9fa3-3498-4f42-8c87-241c46accef7",
   "metadata": {},
   "outputs": [],
   "source": [
    "df_emto = set_dopants_for_pure_elements(df_emto, base='Ti')\n",
    "df_emto = set_dopants_for_pure_elements(df_emto, base='Zr')"
   ]
  },
  {
   "cell_type": "code",
   "execution_count": null,
   "id": "893899a6-98e0-4c70-bee3-88920c525460",
   "metadata": {},
   "outputs": [],
   "source": [
    "df_vasp = set_dopants_for_pure_elements(df_vasp, base='Ti')\n",
    "df_vasp = set_dopants_for_pure_elements(df_vasp, base='Zr')"
   ]
  },
  {
   "cell_type": "markdown",
   "id": "5cd00c59-e065-4548-968a-c33a2962b2dc",
   "metadata": {
    "tags": []
   },
   "source": [
    "# Features engeneering"
   ]
  },
  {
   "cell_type": "code",
   "execution_count": null,
   "id": "8faeb962-153d-4149-802a-2de3a220b24c",
   "metadata": {},
   "outputs": [],
   "source": [
    "import warnings\n",
    "warnings.filterwarnings(\"ignore\") "
   ]
  },
  {
   "cell_type": "code",
   "execution_count": null,
   "id": "59c2c177-13ad-4dc9-a068-158bcf612b72",
   "metadata": {},
   "outputs": [],
   "source": [
    "from handlers import mlb_feats_from_elemental_hull"
   ]
  },
  {
   "cell_type": "markdown",
   "id": "678225fb-14de-47ff-8bee-49be3f5e5c86",
   "metadata": {},
   "source": [
    "Information about different forms of elements in the resulting investigated compositions were added from information on phase diagrams of pure elements from Materials Project data. \n",
    "\n",
    "The following concentration weighted properties have been used as a separate features: atomic number, electronegativity, row and group in a periodic table, atomic mass, atomic radius, molar volume, average ionic radius, maximal and minimal oxidation state. \n",
    "\n",
    "In addition to features that indirectly carry information about the properties and concentration of elements in each composition, we also use features that directly describe the concentrations of each of the 34 unique elements in each composition.\n",
    "\n",
    "Finally, the last group of features was formed as a multi-label binarization of the space groups of elements in their stable crystalline forms, corresponding to each composition from Materials Project.\n",
    "\n",
    "Elemental properties of the most stable form used for features in the concentration weighted form: calculated density, calculated relaxed volume per atom, calculated energy per atom, and total magnetization."
   ]
  },
  {
   "cell_type": "code",
   "execution_count": null,
   "id": "dbe80b27-da3e-44a3-bf68-fdae5dc4a315",
   "metadata": {},
   "outputs": [],
   "source": [
    "df_emto_feats = mlb_feats_from_elemental_hull(df_emto)"
   ]
  },
  {
   "cell_type": "code",
   "execution_count": null,
   "id": "19769af6-db6e-46b3-bf1a-76d39b32ad6f",
   "metadata": {},
   "outputs": [],
   "source": [
    "from handlers import convert_to_feats"
   ]
  },
  {
   "cell_type": "code",
   "execution_count": null,
   "id": "df344038-4432-45e5-a374-8d1a0bfd2dd6",
   "metadata": {},
   "outputs": [],
   "source": [
    "df_emto_feats = convert_to_feats(df_emto_feats)"
   ]
  },
  {
   "cell_type": "markdown",
   "id": "7fd70eac-3e14-422c-a9ee-f6be16a5d242",
   "metadata": {},
   "source": [
    "# Models testing"
   ]
  },
  {
   "cell_type": "markdown",
   "id": "d725e03f-339a-406f-b693-1002d79f0f3f",
   "metadata": {},
   "source": [
    "To explore different models following code should be changed:"
   ]
  },
  {
   "cell_type": "code",
   "execution_count": null,
   "id": "d3baacfc-16f8-4454-951a-1fbdc1c196b4",
   "metadata": {},
   "outputs": [],
   "source": [
    "prop_to_pred = 'C_prime'"
   ]
  },
  {
   "cell_type": "code",
   "execution_count": null,
   "id": "f8d5c37d-aea6-4ae0-a78b-0c7a33ea2d3d",
   "metadata": {},
   "outputs": [],
   "source": [
    "X1 = df_emto_feats.copy().drop(['ucf', 'base', 'dopants', \n",
    "                               'B','E',  'G', 'C_prime', \n",
    "                               'c11', 'c12', 'c44'], axis='columns')\n",
    "y1 = df_emto_feats[prop_to_pred]\n",
    "\n",
    "model1_feats = list(X1.columns)\n",
    "print(f'Totally {len(model1_feats)} feats will be used')"
   ]
  },
  {
   "cell_type": "code",
   "execution_count": null,
   "id": "2eb73cbb-94fb-4925-8c1f-3f785e355a2a",
   "metadata": {},
   "outputs": [],
   "source": [
    "from ml_models.tpot_pipeline_C_prime_EMTO_lib import *\n",
    "\n",
    "model1 = model1()\n",
    "model1"
   ]
  },
  {
   "cell_type": "markdown",
   "id": "4545c7f2-742b-44ca-a5a8-286aaa2b8817",
   "metadata": {
    "tags": []
   },
   "source": [
    "## Interpolation ability testing"
   ]
  },
  {
   "cell_type": "markdown",
   "id": "6b068ebb-f0ff-405b-b1fa-04f123927c94",
   "metadata": {},
   "source": [
    "Here we estimated interpolation rate of a single model for EMTO values prediction."
   ]
  },
  {
   "cell_type": "markdown",
   "id": "f202338e-f80f-4cd4-b98b-b89ed6ab7e93",
   "metadata": {},
   "source": [
    "To assess interpolation rate we preform a variation of k-fold validation. During this validation at each step we eliminate 1/5 of compositions for each system, then we accurately stack the results and astimate predictability for EMTO-predictor."
   ]
  },
  {
   "cell_type": "code",
   "execution_count": null,
   "id": "c2e5cfeb-2b32-413a-9508-6afd76005993",
   "metadata": {},
   "outputs": [],
   "source": [
    "tmp_df = X1.copy()\n",
    "tmp_df[prop_to_pred] = y1\n",
    "tmp_df['base'] = df_emto['base']\n",
    "tmp_df['dopants'] = df_emto['dopants']"
   ]
  },
  {
   "cell_type": "code",
   "execution_count": null,
   "id": "e5d32c24-ce69-436e-b8f1-b1a6d604e3c5",
   "metadata": {},
   "outputs": [],
   "source": [
    "from handlers import interpolation_k_fold_cv"
   ]
  },
  {
   "cell_type": "code",
   "execution_count": null,
   "id": "77ab353a-3435-499a-a2b8-b481c80e57f6",
   "metadata": {},
   "outputs": [],
   "source": [
    "res, all_true, all_pred, selected_indicies = interpolation_k_fold_cv(model1, tmp_df, 5, prop_to_pred)"
   ]
  },
  {
   "cell_type": "code",
   "execution_count": null,
   "id": "edac0c96-137f-47ec-8843-57d7cb36ad4c",
   "metadata": {},
   "outputs": [],
   "source": [
    "import seaborn as sns"
   ]
  },
  {
   "cell_type": "code",
   "execution_count": null,
   "id": "0680b1a5-2927-4f66-83d9-2dba8697ee81",
   "metadata": {},
   "outputs": [],
   "source": [
    "display(res)\n",
    "sns.jointplot(kind='reg', x=all_true, y=all_pred)"
   ]
  },
  {
   "cell_type": "markdown",
   "id": "ebfe6d67-5bf5-4d8f-b942-61a097d43451",
   "metadata": {},
   "source": [
    "Train first model"
   ]
  },
  {
   "cell_type": "code",
   "execution_count": null,
   "id": "c54d16e8-542c-4673-bfd0-eb9a8fb3609a",
   "metadata": {},
   "outputs": [],
   "source": [
    "from handlers import fill_na_feats"
   ]
  },
  {
   "cell_type": "code",
   "execution_count": null,
   "id": "76360f50-96cc-44dc-9caf-2d3c41e224e5",
   "metadata": {},
   "outputs": [],
   "source": [
    "'''Train first model using all data from EMTO'''\n",
    "model1.fit(X1,y1)\n",
    "\n",
    "'''\n",
    "    Next step is to fill all empty features with zeros and than \n",
    "    to calculate predicted EMTO values from model 1 for VASP set\n",
    "'''\n",
    "\n",
    "df_vasp_feats = mlb_feats_from_elemental_hull(df_vasp)\n",
    "df_vasp_feats = convert_to_feats(df_vasp_feats)\n",
    "\n",
    "X2 = df_vasp_feats.drop(['ucf', 'base', 'dopants', \n",
    "                       'B','E',  'G', 'C_prime', \n",
    "                       'c11', 'c12', 'c44'], axis='columns').copy()\n",
    "\n",
    "predicted_EMTO = model1.predict(fill_na_feats(model1_feats, X2))\n",
    "X2_ = X2.copy()\n",
    "X2_['predicted_EMTO'] = predicted_EMTO\n",
    "\n",
    "y2 = df_vasp_feats[prop_to_pred]\n",
    "\n",
    "model2_feats = list(X2_.columns)\n",
    "print(f'Totally {X2_.shape[1]} feats will be used')"
   ]
  },
  {
   "cell_type": "code",
   "execution_count": null,
   "id": "f11fde74-2570-4ba2-b46f-d4f5d946ab8b",
   "metadata": {},
   "outputs": [],
   "source": [
    "from ml_models.tpot_pipeline_C_prime_VASP_lib import *\n",
    "\n",
    "model2 = model2()\n",
    "model2"
   ]
  },
  {
   "cell_type": "markdown",
   "id": "51256d1c-b7b9-44c8-9c60-b8a82baab7e1",
   "metadata": {},
   "source": [
    "interpolation abillity for second group of models tested via leave-one-out CV:"
   ]
  },
  {
   "cell_type": "code",
   "execution_count": null,
   "id": "806ea472-58a8-40d7-8a80-e8fcaec443cd",
   "metadata": {},
   "outputs": [],
   "source": [
    "from handlers import leave_one_out_cv"
   ]
  },
  {
   "cell_type": "code",
   "execution_count": null,
   "id": "30b76cad-d3c3-4796-b70a-b82d67204d29",
   "metadata": {},
   "outputs": [],
   "source": [
    "true, pred, res = leave_one_out_cv(model2, X2_,y2)"
   ]
  },
  {
   "cell_type": "code",
   "execution_count": null,
   "id": "18e4ebc4-e62f-44ea-9501-6fef356168f7",
   "metadata": {},
   "outputs": [],
   "source": [
    "sns.jointplot(kind='reg', x=true, y=pred, color='tab:orange')"
   ]
  },
  {
   "cell_type": "markdown",
   "id": "014c6558-59ee-4062-94d5-509631c80e78",
   "metadata": {},
   "source": [
    "## Extrapolation ability testing"
   ]
  },
  {
   "cell_type": "markdown",
   "id": "cf6de897-7d52-4b05-81bf-e80549365513",
   "metadata": {},
   "source": [
    "To estimate extrapolation rate we performed \"system-fold\" validation, which means, that in each step of such validation one entire system (e.g. Ti-Al) was excluded from a train set, and then we accurately check predicted values for excluded system. This validation is performed only for binaries."
   ]
  },
  {
   "cell_type": "code",
   "execution_count": null,
   "id": "0565ba3c-ead5-4c77-8965-8f09089aec91",
   "metadata": {},
   "outputs": [],
   "source": [
    "# Validate only binaries\n",
    "print('Prop_to_pred:', prop_to_pred)"
   ]
  },
  {
   "cell_type": "code",
   "execution_count": null,
   "id": "5d990ad1-c580-42ae-a108-7d302ba37607",
   "metadata": {},
   "outputs": [],
   "source": []
  },
  {
   "cell_type": "markdown",
   "id": "54f24646-6d65-4e70-a7c5-f5c070a1f03f",
   "metadata": {},
   "source": [
    "Prepare datasets"
   ]
  },
  {
   "cell_type": "code",
   "execution_count": null,
   "id": "c0a604ff-0e5c-4fe0-958e-255c3678a482",
   "metadata": {},
   "outputs": [],
   "source": [
    "from handlers import get_set_for_system_fold_cv"
   ]
  },
  {
   "cell_type": "code",
   "execution_count": null,
   "id": "923895fb-6cb7-4853-9284-76d666153db7",
   "metadata": {},
   "outputs": [],
   "source": [
    "tmp_df = get_set_for_system_fold_cv(df_emto, df_vasp, prop_to_pred)\n",
    "\n",
    "tmp_df_emto = X1.copy()\n",
    "tmp_df_emto[prop_to_pred] = df_emto[prop_to_pred]\n",
    "\n",
    "tmp_df_vasp = X2.copy()\n",
    "tmp_df_vasp[prop_to_pred] = df_vasp[prop_to_pred]\n",
    "\n",
    "results,metrics = system_fold_cv(tmp_df,\n",
    "                           model1, model2,\n",
    "                           prop_to_pred,\n",
    "                           tmp_df_emto, tmp_df_vasp)"
   ]
  },
  {
   "cell_type": "code",
   "execution_count": null,
   "id": "5d8a711e-e339-4afb-bbaa-d155e38a9b2a",
   "metadata": {},
   "outputs": [],
   "source": [
    "display(metrics)\n",
    "sns.jointplot(x = results['True_EMTO'].values, y=results['Pred_EMTO'].values, \n",
    "              kind='reg')\n",
    "sns.jointplot(x = results['True_VASP'].values, y=results['Pred_VASP'].values, \n",
    "              kind='reg', color='tab:orange')"
   ]
  }
 ],
 "metadata": {
  "kernelspec": {
   "display_name": "Python 3 (ipykernel)",
   "language": "python",
   "name": "python3"
  },
  "language_info": {
   "codemirror_mode": {
    "name": "ipython",
    "version": 3
   },
   "file_extension": ".py",
   "mimetype": "text/x-python",
   "name": "python",
   "nbconvert_exporter": "python",
   "pygments_lexer": "ipython3",
   "version": "3.10.8"
  }
 },
 "nbformat": 4,
 "nbformat_minor": 5
}
